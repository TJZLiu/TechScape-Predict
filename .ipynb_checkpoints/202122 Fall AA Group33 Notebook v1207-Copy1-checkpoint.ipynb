{
 "cells": [
  {
   "cell_type": "markdown",
   "metadata": {},
   "source": [
    "# 1. Import the needed libraries"
   ]
  },
  {
   "cell_type": "code",
   "execution_count": 1,
   "metadata": {},
   "outputs": [],
   "source": [
    "import numpy as np\n",
    "import pandas as pd\n",
    "import seaborn as sns\n",
    "import matplotlib.pyplot as plt\n",
    "import time\n",
    "\n",
    "from math import ceil\n",
    "\n",
    "# data partition\n",
    "from sklearn.model_selection import train_test_split,GridSearchCV\n",
    "# data scaling\n",
    "from sklearn.preprocessing import MinMaxScaler,StandardScaler,RobustScaler\n",
    "#outliers\n",
    "from sklearn.ensemble import IsolationForest\n",
    "\n",
    "#Feature selection\n",
    "# chi-square\n",
    "import scipy.stats as stats\n",
    "from scipy.stats import chi2_contingency\n",
    "\n",
    "#wrapper methods\n",
    "from sklearn.feature_selection import RFE\n",
    "\n",
    "# embedded methods\n",
    "from sklearn.linear_model import LassoCV\n",
    "\n",
    "# Model selection\n",
    "from sklearn.model_selection import StratifiedKFold,RepeatedKFold,train_test_split, cross_val_score,GridSearchCV\n",
    "\n",
    "#OneHotEncoder\n",
    "from sklearn.preprocessing import OneHotEncoder\n",
    "\n",
    "# Import models\n",
    "from sklearn.linear_model import LogisticRegression\n",
    "from sklearn.tree import DecisionTreeClassifier\n",
    "from xgboost import XGBClassifier\n",
    "from sklearn.naive_bayes import GaussianNB\n",
    "from sklearn.ensemble import BaggingClassifier, RandomForestClassifier\n",
    "from imblearn.ensemble import BalancedRandomForestClassifier,BalancedBaggingClassifier\n",
    "from sklearn.neural_network import MLPClassifier\n",
    "from sklearn.metrics import f1_score\n",
    "\n",
    "import sklearn.metrics\n",
    "\n",
    "import warnings\n",
    "warnings.filterwarnings('ignore')\n",
    "\n",
    "%matplotlib inline"
   ]
  },
  {
   "cell_type": "markdown",
   "metadata": {},
   "source": [
    "# 2. Import data"
   ]
  },
  {
   "cell_type": "code",
   "execution_count": 2,
   "metadata": {},
   "outputs": [
    {
     "data": {
      "text/html": [
       "<div>\n",
       "<style scoped>\n",
       "    .dataframe tbody tr th:only-of-type {\n",
       "        vertical-align: middle;\n",
       "    }\n",
       "\n",
       "    .dataframe tbody tr th {\n",
       "        vertical-align: top;\n",
       "    }\n",
       "\n",
       "    .dataframe thead th {\n",
       "        text-align: right;\n",
       "    }\n",
       "</style>\n",
       "<table border=\"1\" class=\"dataframe\">\n",
       "  <thead>\n",
       "    <tr style=\"text-align: right;\">\n",
       "      <th></th>\n",
       "      <th>Access_ID</th>\n",
       "      <th>Date</th>\n",
       "      <th>AccountMng_Pages</th>\n",
       "      <th>AccountMng_Duration</th>\n",
       "      <th>FAQ_Pages</th>\n",
       "      <th>FAQ_Duration</th>\n",
       "      <th>Product_Pages</th>\n",
       "      <th>Product_Duration</th>\n",
       "      <th>GoogleAnalytics_BounceRate</th>\n",
       "      <th>GoogleAnalytics_ExitRate</th>\n",
       "      <th>GoogleAnalytics_PageValue</th>\n",
       "      <th>OS</th>\n",
       "      <th>Browser</th>\n",
       "      <th>Country</th>\n",
       "      <th>Type_of_Traffic</th>\n",
       "      <th>Type_of_Visitor</th>\n",
       "      <th>Buy</th>\n",
       "    </tr>\n",
       "  </thead>\n",
       "  <tbody>\n",
       "    <tr>\n",
       "      <th>0</th>\n",
       "      <td>102863333</td>\n",
       "      <td>21-Mar-20</td>\n",
       "      <td>0</td>\n",
       "      <td>0.0</td>\n",
       "      <td>0</td>\n",
       "      <td>0.0</td>\n",
       "      <td>3</td>\n",
       "      <td>64.0000</td>\n",
       "      <td>0.0000</td>\n",
       "      <td>0.0667</td>\n",
       "      <td>0.0000</td>\n",
       "      <td>MacOSX</td>\n",
       "      <td>2</td>\n",
       "      <td>Portugal</td>\n",
       "      <td>1</td>\n",
       "      <td>Returner</td>\n",
       "      <td>0</td>\n",
       "    </tr>\n",
       "    <tr>\n",
       "      <th>1</th>\n",
       "      <td>103117814</td>\n",
       "      <td>20-May-20</td>\n",
       "      <td>0</td>\n",
       "      <td>0.0</td>\n",
       "      <td>0</td>\n",
       "      <td>0.0</td>\n",
       "      <td>23</td>\n",
       "      <td>684.5000</td>\n",
       "      <td>0.0217</td>\n",
       "      <td>0.0449</td>\n",
       "      <td>0.0000</td>\n",
       "      <td>Windows</td>\n",
       "      <td>2</td>\n",
       "      <td>France</td>\n",
       "      <td>6</td>\n",
       "      <td>Returner</td>\n",
       "      <td>0</td>\n",
       "    </tr>\n",
       "    <tr>\n",
       "      <th>2</th>\n",
       "      <td>103201891</td>\n",
       "      <td>4-Dec-20</td>\n",
       "      <td>0</td>\n",
       "      <td>0.0</td>\n",
       "      <td>0</td>\n",
       "      <td>0.0</td>\n",
       "      <td>8</td>\n",
       "      <td>95.0000</td>\n",
       "      <td>0.0250</td>\n",
       "      <td>0.0583</td>\n",
       "      <td>0.0000</td>\n",
       "      <td>Windows</td>\n",
       "      <td>4</td>\n",
       "      <td>Italy</td>\n",
       "      <td>1</td>\n",
       "      <td>Returner</td>\n",
       "      <td>0</td>\n",
       "    </tr>\n",
       "    <tr>\n",
       "      <th>3</th>\n",
       "      <td>103226087</td>\n",
       "      <td>22-Dec-20</td>\n",
       "      <td>0</td>\n",
       "      <td>0.0</td>\n",
       "      <td>0</td>\n",
       "      <td>0.0</td>\n",
       "      <td>9</td>\n",
       "      <td>608.7500</td>\n",
       "      <td>0.0000</td>\n",
       "      <td>0.0250</td>\n",
       "      <td>42.4225</td>\n",
       "      <td>Windows</td>\n",
       "      <td>2</td>\n",
       "      <td>United Kingdom</td>\n",
       "      <td>2</td>\n",
       "      <td>Returner</td>\n",
       "      <td>1</td>\n",
       "    </tr>\n",
       "    <tr>\n",
       "      <th>4</th>\n",
       "      <td>103234445</td>\n",
       "      <td>24-Nov-20</td>\n",
       "      <td>0</td>\n",
       "      <td>0.0</td>\n",
       "      <td>2</td>\n",
       "      <td>386.0</td>\n",
       "      <td>36</td>\n",
       "      <td>1609.9397</td>\n",
       "      <td>0.0000</td>\n",
       "      <td>0.0093</td>\n",
       "      <td>12.5033</td>\n",
       "      <td>Windows</td>\n",
       "      <td>2</td>\n",
       "      <td>Spain</td>\n",
       "      <td>3</td>\n",
       "      <td>Returner</td>\n",
       "      <td>1</td>\n",
       "    </tr>\n",
       "  </tbody>\n",
       "</table>\n",
       "</div>"
      ],
      "text/plain": [
       "   Access_ID       Date  AccountMng_Pages  AccountMng_Duration  FAQ_Pages  \\\n",
       "0  102863333  21-Mar-20                 0                  0.0          0   \n",
       "1  103117814  20-May-20                 0                  0.0          0   \n",
       "2  103201891   4-Dec-20                 0                  0.0          0   \n",
       "3  103226087  22-Dec-20                 0                  0.0          0   \n",
       "4  103234445  24-Nov-20                 0                  0.0          2   \n",
       "\n",
       "   FAQ_Duration  Product_Pages  Product_Duration  GoogleAnalytics_BounceRate  \\\n",
       "0           0.0              3           64.0000                      0.0000   \n",
       "1           0.0             23          684.5000                      0.0217   \n",
       "2           0.0              8           95.0000                      0.0250   \n",
       "3           0.0              9          608.7500                      0.0000   \n",
       "4         386.0             36         1609.9397                      0.0000   \n",
       "\n",
       "   GoogleAnalytics_ExitRate  GoogleAnalytics_PageValue       OS  Browser  \\\n",
       "0                    0.0667                     0.0000   MacOSX        2   \n",
       "1                    0.0449                     0.0000  Windows        2   \n",
       "2                    0.0583                     0.0000  Windows        4   \n",
       "3                    0.0250                    42.4225  Windows        2   \n",
       "4                    0.0093                    12.5033  Windows        2   \n",
       "\n",
       "          Country  Type_of_Traffic Type_of_Visitor  Buy  \n",
       "0        Portugal                1        Returner    0  \n",
       "1          France                6        Returner    0  \n",
       "2           Italy                1        Returner    0  \n",
       "3  United Kingdom                2        Returner    1  \n",
       "4           Spain                3        Returner    1  "
      ]
     },
     "execution_count": 2,
     "metadata": {},
     "output_type": "execute_result"
    }
   ],
   "source": [
    "df = pd.read_csv(\"train.csv\")\n",
    "df.head()"
   ]
  },
  {
   "cell_type": "markdown",
   "metadata": {},
   "source": [
    "# 3. Explore the data"
   ]
  },
  {
   "cell_type": "code",
   "execution_count": 3,
   "metadata": {},
   "outputs": [
    {
     "name": "stdout",
     "output_type": "stream",
     "text": [
      "<class 'pandas.core.frame.DataFrame'>\n",
      "RangeIndex: 9999 entries, 0 to 9998\n",
      "Data columns (total 17 columns):\n",
      " #   Column                      Non-Null Count  Dtype  \n",
      "---  ------                      --------------  -----  \n",
      " 0   Access_ID                   9999 non-null   int64  \n",
      " 1   Date                        9999 non-null   object \n",
      " 2   AccountMng_Pages            9999 non-null   int64  \n",
      " 3   AccountMng_Duration         9999 non-null   float64\n",
      " 4   FAQ_Pages                   9999 non-null   int64  \n",
      " 5   FAQ_Duration                9999 non-null   float64\n",
      " 6   Product_Pages               9999 non-null   int64  \n",
      " 7   Product_Duration            9999 non-null   float64\n",
      " 8   GoogleAnalytics_BounceRate  9999 non-null   float64\n",
      " 9   GoogleAnalytics_ExitRate    9999 non-null   float64\n",
      " 10  GoogleAnalytics_PageValue   9999 non-null   float64\n",
      " 11  OS                          9999 non-null   object \n",
      " 12  Browser                     9999 non-null   int64  \n",
      " 13  Country                     9999 non-null   object \n",
      " 14  Type_of_Traffic             9999 non-null   int64  \n",
      " 15  Type_of_Visitor             9999 non-null   object \n",
      " 16  Buy                         9999 non-null   int64  \n",
      "dtypes: float64(6), int64(7), object(4)\n",
      "memory usage: 1.3+ MB\n"
     ]
    }
   ],
   "source": [
    "df.info()"
   ]
  },
  {
   "cell_type": "code",
   "execution_count": 4,
   "metadata": {},
   "outputs": [
    {
     "data": {
      "text/plain": [
       "False    9999\n",
       "dtype: int64"
      ]
     },
     "execution_count": 4,
     "metadata": {},
     "output_type": "execute_result"
    }
   ],
   "source": [
    "#check the duplicated data\n",
    "df.duplicated().value_counts()"
   ]
  },
  {
   "cell_type": "code",
   "execution_count": 5,
   "metadata": {
    "scrolled": true
   },
   "outputs": [],
   "source": [
    "#Define metric and non-metric features. \n",
    "categorical = df.select_dtypes(include=\"object\").columns.to_list()\n",
    "categorical.append('Type_of_Traffic')\n",
    "categorical.append('Browser')\n",
    "numerical = df.columns.drop(categorical).drop([\"Buy\",\"Access_ID\"]).to_list()"
   ]
  },
  {
   "cell_type": "markdown",
   "metadata": {},
   "source": [
    "# Visual Exploration"
   ]
  },
  {
   "cell_type": "code",
   "execution_count": 86,
   "metadata": {},
   "outputs": [
    {
     "data": {
      "image/png": "[encoded data removed]",
      "text/plain": [
       "<Figure size 1440x792 with 10 Axes>"
      ]
     },
     "metadata": {},
     "output_type": "display_data"
    }
   ],
   "source": [
    "# All Numeric Variables' Histograms in one figure\n",
    "sns.set()\n",
    "\n",
    "# Prepare figure. Create individual axes where each histogram will be placed\n",
    "fig, axes = plt.subplots(2, ceil(len(numerical) / 2), figsize=(20, 11))\n",
    "\n",
    "# Plot data\n",
    "# Iterate across axes objects and associate each histogram (hint: use the ax.hist() instead of plt.hist()):\n",
    "for ax, feat in zip(axes.flatten(), numerical): # Notice the zip() function and flatten() method\n",
    "    ax.hist(df[feat])\n",
    "    ax.set_title(feat, y=-0.13)\n",
    "    \n",
    "# Layout\n",
    "# Add a centered title to the figure:\n",
    "title = \"Numeric Variables' Histograms\"\n",
    "\n",
    "plt.suptitle(title)\n",
    "\n",
    "plt.show()"
   ]
  },
  {
   "cell_type": "code",
   "execution_count": 87,
   "metadata": {},
   "outputs": [
    {
     "data": {
      "text/plain": [
       "Text(0.5, 0.98, \"Numeric Variables' Box Plots\")"
      ]
     },
     "execution_count": 87,
     "metadata": {},
     "output_type": "execute_result"
    },
    {
     "data": {
      "image/png": "[encoded data removed]",
      "text/plain": [
       "<Figure size 1440x792 with 10 Axes>"
      ]
     },
     "metadata": {},
     "output_type": "display_data"
    }
   ],
   "source": [
    "# All Numeric Variables' Box Plots in one figure\n",
    "sns.set()\n",
    "\n",
    "# Prepare figure. Create individual axes where each box plot will be placed\n",
    "fig, axes = plt.subplots(2, ceil(len(numerical) / 2), figsize=(20, 11))\n",
    "\n",
    "# Plot data\n",
    "# Iterate across axes objects and associate each box plot (hint: use the ax argument):\n",
    "for ax, feat in zip(axes.flatten(), numerical): # Notice the zip() function and flatten() method\n",
    "    sns.boxplot(x=df[feat], ax=ax)\n",
    "    \n",
    "# Layout\n",
    "# Add a centered title to the figure:\n",
    "title = \"Numeric Variables' Box Plots\"\n",
    "\n",
    "plt.suptitle(title)"
   ]
  },
  {
   "cell_type": "code",
   "execution_count": 88,
   "metadata": {},
   "outputs": [
    {
     "data": {
      "text/plain": [
       "Text(0.5, 0.98, \"Categorical/Low Cardinality Variables' Absolute Frequencies\")"
      ]
     },
     "execution_count": 88,
     "metadata": {},
     "output_type": "execute_result"
    },
    {
     "data": {
      "image/png": "[encoded data removed]",
      "text/plain": [
       "<Figure size 1440x792 with 6 Axes>"
      ]
     },
     "metadata": {},
     "output_type": "display_data"
    }
   ],
   "source": [
    "# All Non-Metric Variables' Absolute Frequencies\n",
    "sns.set()\n",
    "\n",
    "# Prepare figure. Create individual axes where each bar plot will be placed\n",
    "fig, axes = plt.subplots(2, ceil(len(categorical) / 2), figsize=(20, 11))\n",
    "\n",
    "# Plot data\n",
    "# Iterate across axes objects and associate each bar plot (hint: use the ax argument):\n",
    "for ax, feat in zip(axes.flatten(), categorical): # Notice the zip() function and flatten() method\n",
    "    sns.countplot(df[feat].astype(object), ax=ax, color='#007acc')\n",
    "\n",
    "title = \"Categorical/Low Cardinality Variables' Absolute Frequencies\"\n",
    "plt.suptitle(title)"
   ]
  },
  {
   "cell_type": "markdown",
   "metadata": {},
   "source": [
    "Comparing categorical variables with Target column 'Buy'"
   ]
  },
  {
   "cell_type": "code",
   "execution_count": 9,
   "metadata": {},
   "outputs": [
    {
     "data": {
      "image/png": "[encoded data removed]",
      "text/plain": [
       "<Figure size 432x288 with 1 Axes>"
      ]
     },
     "metadata": {},
     "output_type": "display_data"
    }
   ],
   "source": [
    "#Comparing 'OS' with Target column 'Buy'\n",
    "sns.set()\n",
    "df_counts = df\\\n",
    "    .groupby(['OS', 'Buy'])\\\n",
    "    .size()\\\n",
    "    .unstack()\\\n",
    "    .plot.bar(stacked=True)"
   ]
  },
  {
   "cell_type": "code",
   "execution_count": 10,
   "metadata": {},
   "outputs": [
    {
     "data": {
      "image/png": "[encoded data removed]",
      "text/plain": [
       "<Figure size 432x288 with 1 Axes>"
      ]
     },
     "metadata": {},
     "output_type": "display_data"
    }
   ],
   "source": [
    "#Comparing 'Browser' with Target column 'Buy'\n",
    "sns.set()\n",
    "df_counts = df\\\n",
    "    .groupby(['Browser', 'Buy'])\\\n",
    "    .size()\\\n",
    "    .unstack()\\\n",
    "    .plot.bar(stacked=True)"
   ]
  },
  {
   "cell_type": "code",
   "execution_count": 11,
   "metadata": {},
   "outputs": [
    {
     "data": {
      "image/png": "[encoded data removed]",
      "text/plain": [
       "<Figure size 432x288 with 1 Axes>"
      ]
     },
     "metadata": {},
     "output_type": "display_data"
    }
   ],
   "source": [
    "#Comparing 'Type_of_Traffic' with Target column 'Buy'\n",
    "sns.set()\n",
    "df_counts = df\\\n",
    "    .groupby(['Type_of_Traffic', 'Buy'])\\\n",
    "    .size()\\\n",
    "    .unstack()\\\n",
    "    .plot.bar(stacked=True)"
   ]
  },
  {
   "cell_type": "code",
   "execution_count": 12,
   "metadata": {},
   "outputs": [
    {
     "data": {
      "image/png": "[encoded data removed]",
      "text/plain": [
       "<Figure size 432x288 with 1 Axes>"
      ]
     },
     "metadata": {},
     "output_type": "display_data"
    }
   ],
   "source": [
    "#Comparing 'Type_of_Visitor' with Target column 'Buy'\n",
    "sns.set()\n",
    "df_counts = df\\\n",
    "    .groupby(['Type_of_Visitor', 'Buy'])\\\n",
    "    .size()\\\n",
    "    .unstack()\\\n",
    "    .plot.bar(stacked=True)"
   ]
  },
  {
   "cell_type": "code",
   "execution_count": null,
   "metadata": {},
   "outputs": [],
   "source": [
    "# Pairwise Relationship of Numerical Variables\n",
    "sns.set()\n",
    "\n",
    "# Setting pairplot\n",
    "sns.pairplot(df[numerical + ['Buy']], diag_kind=\"hist\", hue='Buy')\n",
    "\n",
    "# Layout\n",
    "plt.subplots_adjust(top=0.95)\n",
    "plt.suptitle(\"Pairwise Relationship of Numerical Variables\", fontsize=20)\n",
    "\n",
    "plt.show()"
   ]
  },
  {
   "cell_type": "markdown",
   "metadata": {},
   "source": [
    "# 4. Modify the data"
   ]
  },
  {
   "cell_type": "code",
   "execution_count": 6,
   "metadata": {},
   "outputs": [],
   "source": [
    "#created a new data for modifying\n",
    "dfm = df.copy()"
   ]
  },
  {
   "cell_type": "code",
   "execution_count": 90,
   "metadata": {},
   "outputs": [
    {
     "name": "stdout",
     "output_type": "stream",
     "text": [
      "Percentage of data removed after outliers: 0.5 %\n"
     ]
    }
   ],
   "source": [
    "#remove outliers\n",
    "iso = IsolationForest(contamination=0.005)\n",
    "iso_df = iso.fit_predict(dfm[numerical])\n",
    "mask_out =iso_df == -1\n",
    "outliers_if=df[mask_out]\n",
    "dfm.drop(outliers_if.index,inplace=True)\n",
    "print('Percentage of data removed after outliers:',\n",
    "      np.round(1 -  np.round(dfm.shape[0] / df.shape[0], 5), 5)*100, \"%\")"
   ]
  },
  {
   "cell_type": "code",
   "execution_count": 7,
   "metadata": {},
   "outputs": [],
   "source": [
    "dfm['Buy'] = dfm['Buy'].replace([0,1],[False,True])"
   ]
  },
  {
   "cell_type": "code",
   "execution_count": 8,
   "metadata": {},
   "outputs": [],
   "source": [
    "#change the date to panda datetime\n",
    "dfm[\"Date\"]= pd.to_datetime(dfm[\"Date\"])"
   ]
  },
  {
   "cell_type": "code",
   "execution_count": 9,
   "metadata": {},
   "outputs": [],
   "source": [
    "#set the index\n",
    "dfm.set_index(\"Access_ID\",inplace=True)"
   ]
  },
  {
   "cell_type": "code",
   "execution_count": 10,
   "metadata": {},
   "outputs": [],
   "source": [
    "#set all the colunms of Duration, change the seconds to the minutes\n",
    "dfm[\"Product_Duration\"] = dfm[\"Product_Duration\"]/ 60 \n",
    "dfm[\"FAQ_Duration\"] = dfm[\"FAQ_Duration\"]/ 60\n",
    "dfm[\"AccountMng_Duration\"] = dfm[\"AccountMng_Duration\"]/ 60"
   ]
  },
  {
   "cell_type": "code",
   "execution_count": 11,
   "metadata": {},
   "outputs": [],
   "source": [
    "#creat Month column and drop the Date Column\n",
    "dfm[\"Month\"] = dfm[\"Date\"].dt.month_name()\n",
    "dfm = dfm.drop(columns=\"Date\")"
   ]
  },
  {
   "cell_type": "code",
   "execution_count": 12,
   "metadata": {},
   "outputs": [],
   "source": [
    "# Replace the number in 'Browser' to make it more categorical\n",
    "dfm['Browser'] = dfm['Browser'].replace([1,2,3,4,5,6,7,8,9,10,11,12,13], ['a','b','c','d','e','f','g','h','i','j','k','l','m'])"
   ]
  },
  {
   "cell_type": "code",
   "execution_count": 13,
   "metadata": {},
   "outputs": [],
   "source": [
    "# Replace the number in 'Type_of_Traffic' to make it more categorical\n",
    "dfm['Type_of_Traffic'] = dfm['Type_of_Traffic'].replace([1,2,3,4,5,6,7,8,9,10,11,12,13,14,15], ['a','b','c','d','e','f','g','h','i','j','k','l','m','n','o'])"
   ]
  },
  {
   "cell_type": "code",
   "execution_count": 14,
   "metadata": {},
   "outputs": [],
   "source": [
    "# Define the independent variables as X and the dependent variable ('Buy') as y.\n",
    "X = dfm.drop('Buy', axis = 1)\n",
    "y = dfm['Buy']"
   ]
  },
  {
   "cell_type": "code",
   "execution_count": 15,
   "metadata": {},
   "outputs": [
    {
     "data": {
      "text/html": [
       "<div>\n",
       "<style scoped>\n",
       "    .dataframe tbody tr th:only-of-type {\n",
       "        vertical-align: middle;\n",
       "    }\n",
       "\n",
       "    .dataframe tbody tr th {\n",
       "        vertical-align: top;\n",
       "    }\n",
       "\n",
       "    .dataframe thead th {\n",
       "        text-align: right;\n",
       "    }\n",
       "</style>\n",
       "<table border=\"1\" class=\"dataframe\">\n",
       "  <thead>\n",
       "    <tr style=\"text-align: right;\">\n",
       "      <th></th>\n",
       "      <th>AccountMng_Pages</th>\n",
       "      <th>AccountMng_Duration</th>\n",
       "      <th>FAQ_Pages</th>\n",
       "      <th>FAQ_Duration</th>\n",
       "      <th>Product_Pages</th>\n",
       "      <th>Product_Duration</th>\n",
       "      <th>GoogleAnalytics_BounceRate</th>\n",
       "      <th>GoogleAnalytics_ExitRate</th>\n",
       "      <th>GoogleAnalytics_PageValue</th>\n",
       "    </tr>\n",
       "    <tr>\n",
       "      <th>Access_ID</th>\n",
       "      <th></th>\n",
       "      <th></th>\n",
       "      <th></th>\n",
       "      <th></th>\n",
       "      <th></th>\n",
       "      <th></th>\n",
       "      <th></th>\n",
       "      <th></th>\n",
       "      <th></th>\n",
       "    </tr>\n",
       "  </thead>\n",
       "  <tbody>\n",
       "    <tr>\n",
       "      <th>102863333</th>\n",
       "      <td>-0.695772</td>\n",
       "      <td>-0.45188</td>\n",
       "      <td>-0.397124</td>\n",
       "      <td>-0.247222</td>\n",
       "      <td>-0.643931</td>\n",
       "      <td>-0.580013</td>\n",
       "      <td>-0.457327</td>\n",
       "      <td>0.481514</td>\n",
       "      <td>-0.317987</td>\n",
       "    </tr>\n",
       "    <tr>\n",
       "      <th>103117814</th>\n",
       "      <td>-0.695772</td>\n",
       "      <td>-0.45188</td>\n",
       "      <td>-0.397124</td>\n",
       "      <td>-0.247222</td>\n",
       "      <td>-0.194978</td>\n",
       "      <td>-0.263137</td>\n",
       "      <td>-0.012414</td>\n",
       "      <td>0.035185</td>\n",
       "      <td>-0.317987</td>\n",
       "    </tr>\n",
       "    <tr>\n",
       "      <th>103201891</th>\n",
       "      <td>-0.695772</td>\n",
       "      <td>-0.45188</td>\n",
       "      <td>-0.397124</td>\n",
       "      <td>-0.247222</td>\n",
       "      <td>-0.531693</td>\n",
       "      <td>-0.564182</td>\n",
       "      <td>0.055246</td>\n",
       "      <td>0.309534</td>\n",
       "      <td>-0.317987</td>\n",
       "    </tr>\n",
       "  </tbody>\n",
       "</table>\n",
       "</div>"
      ],
      "text/plain": [
       "           AccountMng_Pages  AccountMng_Duration  FAQ_Pages  FAQ_Duration  \\\n",
       "Access_ID                                                                   \n",
       "102863333         -0.695772             -0.45188  -0.397124     -0.247222   \n",
       "103117814         -0.695772             -0.45188  -0.397124     -0.247222   \n",
       "103201891         -0.695772             -0.45188  -0.397124     -0.247222   \n",
       "\n",
       "           Product_Pages  Product_Duration  GoogleAnalytics_BounceRate  \\\n",
       "Access_ID                                                                \n",
       "102863333      -0.643931         -0.580013                   -0.457327   \n",
       "103117814      -0.194978         -0.263137                   -0.012414   \n",
       "103201891      -0.531693         -0.564182                    0.055246   \n",
       "\n",
       "           GoogleAnalytics_ExitRate  GoogleAnalytics_PageValue  \n",
       "Access_ID                                                       \n",
       "102863333                  0.481514                  -0.317987  \n",
       "103117814                  0.035185                  -0.317987  \n",
       "103201891                  0.309534                  -0.317987  "
      ]
     },
     "execution_count": 15,
     "metadata": {},
     "output_type": "execute_result"
    }
   ],
   "source": [
    "X_num = X.select_dtypes(exclude='object').set_index(X.index)\n",
    "X_cat = X.select_dtypes(include='object').set_index(X.index)\n",
    "scaler = StandardScaler().fit(X_num)\n",
    "X_num_scaled = scaler.transform(X_num) # this will return an array\n",
    "# Convert the array to a pandas dataframe\n",
    "X_num_scaled = pd.DataFrame(X_num_scaled, columns = X_num.columns).set_index(X.index)\n",
    "X_num_scaled.head(3)"
   ]
  },
  {
   "cell_type": "markdown",
   "metadata": {},
   "source": [
    "# Feature Engineering"
   ]
  },
  {
   "cell_type": "markdown",
   "metadata": {},
   "source": [
    " We are going to check now the spearman correlation between the variables. First we need to create a new dataframe with all the training data, but containing also the dependent variable, so we can check if any of the independent variables are correlated with the target. Name this new dataframe as `all_num`. "
   ]
  },
  {
   "cell_type": "code",
   "execution_count": 16,
   "metadata": {
    "scrolled": true
   },
   "outputs": [
    {
     "data": {
      "text/html": [
       "<div>\n",
       "<style scoped>\n",
       "    .dataframe tbody tr th:only-of-type {\n",
       "        vertical-align: middle;\n",
       "    }\n",
       "\n",
       "    .dataframe tbody tr th {\n",
       "        vertical-align: top;\n",
       "    }\n",
       "\n",
       "    .dataframe thead th {\n",
       "        text-align: right;\n",
       "    }\n",
       "</style>\n",
       "<table border=\"1\" class=\"dataframe\">\n",
       "  <thead>\n",
       "    <tr style=\"text-align: right;\">\n",
       "      <th></th>\n",
       "      <th>AccountMng_Pages</th>\n",
       "      <th>AccountMng_Duration</th>\n",
       "      <th>FAQ_Pages</th>\n",
       "      <th>FAQ_Duration</th>\n",
       "      <th>Product_Pages</th>\n",
       "      <th>Product_Duration</th>\n",
       "      <th>GoogleAnalytics_BounceRate</th>\n",
       "      <th>GoogleAnalytics_ExitRate</th>\n",
       "      <th>GoogleAnalytics_PageValue</th>\n",
       "      <th>Buy</th>\n",
       "    </tr>\n",
       "    <tr>\n",
       "      <th>Access_ID</th>\n",
       "      <th></th>\n",
       "      <th></th>\n",
       "      <th></th>\n",
       "      <th></th>\n",
       "      <th></th>\n",
       "      <th></th>\n",
       "      <th></th>\n",
       "      <th></th>\n",
       "      <th></th>\n",
       "      <th></th>\n",
       "    </tr>\n",
       "  </thead>\n",
       "  <tbody>\n",
       "    <tr>\n",
       "      <th>102863333</th>\n",
       "      <td>-0.695772</td>\n",
       "      <td>-0.45188</td>\n",
       "      <td>-0.397124</td>\n",
       "      <td>-0.247222</td>\n",
       "      <td>-0.643931</td>\n",
       "      <td>-0.580013</td>\n",
       "      <td>-0.457327</td>\n",
       "      <td>0.481514</td>\n",
       "      <td>-0.317987</td>\n",
       "      <td>False</td>\n",
       "    </tr>\n",
       "    <tr>\n",
       "      <th>103117814</th>\n",
       "      <td>-0.695772</td>\n",
       "      <td>-0.45188</td>\n",
       "      <td>-0.397124</td>\n",
       "      <td>-0.247222</td>\n",
       "      <td>-0.194978</td>\n",
       "      <td>-0.263137</td>\n",
       "      <td>-0.012414</td>\n",
       "      <td>0.035185</td>\n",
       "      <td>-0.317987</td>\n",
       "      <td>False</td>\n",
       "    </tr>\n",
       "    <tr>\n",
       "      <th>103201891</th>\n",
       "      <td>-0.695772</td>\n",
       "      <td>-0.45188</td>\n",
       "      <td>-0.397124</td>\n",
       "      <td>-0.247222</td>\n",
       "      <td>-0.531693</td>\n",
       "      <td>-0.564182</td>\n",
       "      <td>0.055246</td>\n",
       "      <td>0.309534</td>\n",
       "      <td>-0.317987</td>\n",
       "      <td>False</td>\n",
       "    </tr>\n",
       "    <tr>\n",
       "      <th>103226087</th>\n",
       "      <td>-0.695772</td>\n",
       "      <td>-0.45188</td>\n",
       "      <td>-0.397124</td>\n",
       "      <td>-0.247222</td>\n",
       "      <td>-0.509245</td>\n",
       "      <td>-0.301821</td>\n",
       "      <td>-0.457327</td>\n",
       "      <td>-0.372244</td>\n",
       "      <td>1.944222</td>\n",
       "      <td>True</td>\n",
       "    </tr>\n",
       "    <tr>\n",
       "      <th>103234445</th>\n",
       "      <td>-0.695772</td>\n",
       "      <td>-0.45188</td>\n",
       "      <td>1.166200</td>\n",
       "      <td>2.514063</td>\n",
       "      <td>0.096842</td>\n",
       "      <td>0.209465</td>\n",
       "      <td>-0.457327</td>\n",
       "      <td>-0.693684</td>\n",
       "      <td>0.348760</td>\n",
       "      <td>True</td>\n",
       "    </tr>\n",
       "  </tbody>\n",
       "</table>\n",
       "</div>"
      ],
      "text/plain": [
       "           AccountMng_Pages  AccountMng_Duration  FAQ_Pages  FAQ_Duration  \\\n",
       "Access_ID                                                                   \n",
       "102863333         -0.695772             -0.45188  -0.397124     -0.247222   \n",
       "103117814         -0.695772             -0.45188  -0.397124     -0.247222   \n",
       "103201891         -0.695772             -0.45188  -0.397124     -0.247222   \n",
       "103226087         -0.695772             -0.45188  -0.397124     -0.247222   \n",
       "103234445         -0.695772             -0.45188   1.166200      2.514063   \n",
       "\n",
       "           Product_Pages  Product_Duration  GoogleAnalytics_BounceRate  \\\n",
       "Access_ID                                                                \n",
       "102863333      -0.643931         -0.580013                   -0.457327   \n",
       "103117814      -0.194978         -0.263137                   -0.012414   \n",
       "103201891      -0.531693         -0.564182                    0.055246   \n",
       "103226087      -0.509245         -0.301821                   -0.457327   \n",
       "103234445       0.096842          0.209465                   -0.457327   \n",
       "\n",
       "           GoogleAnalytics_ExitRate  GoogleAnalytics_PageValue    Buy  \n",
       "Access_ID                                                              \n",
       "102863333                  0.481514                  -0.317987  False  \n",
       "103117814                  0.035185                  -0.317987  False  \n",
       "103201891                  0.309534                  -0.317987  False  \n",
       "103226087                 -0.372244                   1.944222   True  \n",
       "103234445                 -0.693684                   0.348760   True  "
      ]
     },
     "execution_count": 16,
     "metadata": {},
     "output_type": "execute_result"
    }
   ],
   "source": [
    "all_num = X_num_scaled.join(y)\n",
    "all_num.head()"
   ]
  },
  {
   "cell_type": "markdown",
   "metadata": {},
   "source": [
    "Create a function to plot the correlation between the variables named `cor_heatmap()` that should take as parameters the correlation table `cor`. Define the following conditions in the function:\n",
    "- the size of the figure should be (12,10)\n",
    "- create a heatmap using seaborn package where: \n",
    "    - `data` should be equal to the correlation table\n",
    "    - `annot = True`\n",
    "    - `cmap = plt.cm.Reds`\n",
    "    - `fmt='.1'`"
   ]
  },
  {
   "cell_type": "code",
   "execution_count": 101,
   "metadata": {},
   "outputs": [],
   "source": [
    "def cor_heatmap(cor):\n",
    "    plt.figure(figsize=(12,10))\n",
    "    sns.heatmap(data = cor, annot = True, cmap = plt.cm.Reds, fmt='.1')\n",
    "    plt.show()"
   ]
  },
  {
   "cell_type": "markdown",
   "metadata": {},
   "source": [
    "Check the spearman correlation of the __all_train__ dataset by applying the method `corr()` and assign it to the object `cor_spearman`"
   ]
  },
  {
   "cell_type": "markdown",
   "metadata": {},
   "source": [
    "Call the function `cor_heatmap()` to the correlation table `cor_spearman`"
   ]
  },
  {
   "cell_type": "code",
   "execution_count": 102,
   "metadata": {},
   "outputs": [
    {
     "data": {
      "image/png": "[encoded data removed]",
      "text/plain": [
       "<Figure size 864x720 with 2 Axes>"
      ]
     },
     "metadata": {},
     "output_type": "display_data"
    }
   ],
   "source": [
    "cor_spearman = all_num.corr(method ='spearman')\n",
    "cor_heatmap(cor_spearman)"
   ]
  },
  {
   "cell_type": "markdown",
   "metadata": {},
   "source": [
    "# Chi-Square for categorical data"
   ]
  },
  {
   "cell_type": "markdown",
   "metadata": {},
   "source": [
    "Create a function named as TestIndependence that should receive as arguments the dataset of independent variables, the target, the name of each independent variable and the alpha defined. This function will follow the steps of chi-square to check if a independent variable is an important predictor."
   ]
  },
  {
   "cell_type": "code",
   "execution_count": 20,
   "metadata": {},
   "outputs": [],
   "source": [
    "def TestIndependence(X,y,var,alpha=0.05):        \n",
    "    dfObserved = pd.crosstab(y,X) \n",
    "    chi2, p, dof, expected = stats.chi2_contingency(dfObserved.values)\n",
    "    dfExpected = pd.DataFrame(expected, columns=dfObserved.columns, index = dfObserved.index)\n",
    "    if p<alpha:\n",
    "        result=\"{0} is IMPORTANT for Prediction\".format(var)\n",
    "    else:\n",
    "        result=\"{0} is NOT an important predictor. (Discard {0} from model)\".format(var)\n",
    "    print(result)"
   ]
  },
  {
   "cell_type": "markdown",
   "metadata": {},
   "source": [
    "For all the categorical variables available on `X_cat`, call the function `TestIndependence`."
   ]
  },
  {
   "cell_type": "code",
   "execution_count": 21,
   "metadata": {},
   "outputs": [
    {
     "name": "stdout",
     "output_type": "stream",
     "text": [
      "OS is IMPORTANT for Prediction\n",
      "Browser is IMPORTANT for Prediction\n",
      "Country is NOT an important predictor. (Discard Country from model)\n",
      "Type_of_Traffic is IMPORTANT for Prediction\n",
      "Type_of_Visitor is IMPORTANT for Prediction\n",
      "Month is IMPORTANT for Prediction\n"
     ]
    }
   ],
   "source": [
    "for var in X_cat:\n",
    "    TestIndependence(X_cat[var],y, var)"
   ]
  },
  {
   "cell_type": "markdown",
   "metadata": {},
   "source": [
    "# RFE"
   ]
  },
  {
   "cell_type": "markdown",
   "metadata": {},
   "source": [
    "This time we are going to apply Recursive Feature Elimination (RFE / Backwards) that will allow to select the most important features to keep. The base estimator used will be a Logistic Regression."
   ]
  },
  {
   "cell_type": "code",
   "execution_count": 28,
   "metadata": {},
   "outputs": [
    {
     "data": {
      "text/plain": [
       "Index(['AccountMng_Pages', 'AccountMng_Duration', 'FAQ_Pages', 'FAQ_Duration',\n",
       "       'Product_Pages', 'Product_Duration', 'GoogleAnalytics_BounceRate',\n",
       "       'GoogleAnalytics_ExitRate', 'GoogleAnalytics_PageValue'],\n",
       "      dtype='object')"
      ]
     },
     "execution_count": 28,
     "metadata": {},
     "output_type": "execute_result"
    }
   ],
   "source": [
    "# Using LogisticRegression, create a Logistic Regression Classifier instance called model\n",
    "model = RandomForestClassifier()\n",
    "\n",
    "# Using RFE, create a RFE instance called `rfe` and initialize by defining the following parameters:\n",
    "# `estimator` = model\n",
    "# `n_features_to_select` = 2\n",
    "rfe = RFE(estimator = model, n_features_to_select = 6)\n",
    "# Transform the data using RFE by applying the method fit_transform() to the instance rfe, \n",
    "# where X should be assigned to your independent variables and y to the dependent variable and assign it to the object X_rfe\n",
    "X_rfe = rfe.fit_transform(X = X_num_scaled, y = y)\n",
    "#Check the variables that were selected by RFE as the most \"important\" ones by calling the attribute support_ to rfe\n",
    "X_num_scaled.columns"
   ]
  },
  {
   "cell_type": "code",
   "execution_count": 29,
   "metadata": {},
   "outputs": [
    {
     "data": {
      "text/plain": [
       "AccountMng_Pages              False\n",
       "AccountMng_Duration            True\n",
       "FAQ_Pages                     False\n",
       "FAQ_Duration                  False\n",
       "Product_Pages                  True\n",
       "Product_Duration               True\n",
       "GoogleAnalytics_BounceRate     True\n",
       "GoogleAnalytics_ExitRate       True\n",
       "GoogleAnalytics_PageValue      True\n",
       "dtype: bool"
      ]
     },
     "execution_count": 29,
     "metadata": {},
     "output_type": "execute_result"
    }
   ],
   "source": [
    "# Create an object (pandas Series) named selected_features that will have as index the X_train_num columns names \n",
    "# and the support_ attribute as value.\n",
    "selected_features = pd.Series(rfe.support_, index = X_num_scaled.columns)\n",
    "selected_features"
   ]
  },
  {
   "cell_type": "markdown",
   "metadata": {},
   "source": [
    "# Lasso Regression"
   ]
  },
  {
   "cell_type": "markdown",
   "metadata": {},
   "source": [
    "Create a function to plot the importance of the features named `plot_importance()` that should receive as parameters the \"importance\" of each variable (`coef`) and a `name` to define the title.  Define the following conditions/steps in the function:\n",
    "- sort the values of `coef` asn assign it to the object `imp_coef`\n",
    "- the size of the figure should be (8,10)\n",
    "- create a matplotlib plot `kind = barh` to plot the `imp_coef`.\n",
    "- Define the title as \"Feature importance using\" + _the name of the model_ `name` + \" Model\""
   ]
  },
  {
   "cell_type": "code",
   "execution_count": 30,
   "metadata": {},
   "outputs": [],
   "source": [
    "def plot_importance(coef,name):\n",
    "    imp_coef = coef.sort_values()\n",
    "    plt.figure(figsize=(8,10))\n",
    "    imp_coef.plot(kind = \"barh\")\n",
    "    plt.title(\"Feature importance using \" + name + \" Model\")\n",
    "    plt.show()"
   ]
  },
  {
   "cell_type": "code",
   "execution_count": 31,
   "metadata": {},
   "outputs": [
    {
     "name": "stdout",
     "output_type": "stream",
     "text": [
      "Lasso picked 9 variables and eliminated the other 0 variables\n"
     ]
    }
   ],
   "source": [
    "# Using LassoCV, create a Lasso Regression instance called reg\n",
    "reg = LassoCV()\n",
    "\n",
    "# Fit the data to reg by using the method fit() where X should be assigned to data and y to the dependent variable.\n",
    "reg.fit(X_num_scaled, y)\n",
    "\n",
    "# Create an object (pandas Series) named coef that will have as index the data columns names and the coef_ attribute as value.\n",
    "coef = pd.Series(reg.coef_, index = X_num_scaled.columns)\n",
    "# Check how many variables did Lasso picked (if the coef is different from 0) \n",
    "# and how many variables did Lasso eliminated (if the coef is equal to 0).\n",
    "print(\"Lasso picked \" + str(sum(coef != 0)) + \" variables and eliminated the other \" +  str(sum(coef == 0)) + \" variables\")"
   ]
  },
  {
   "cell_type": "code",
   "execution_count": 32,
   "metadata": {},
   "outputs": [
    {
     "data": {
      "text/plain": [
       "GoogleAnalytics_ExitRate     -0.049622\n",
       "AccountMng_Pages              0.002254\n",
       "FAQ_Duration                  0.002352\n",
       "FAQ_Pages                     0.003155\n",
       "AccountMng_Duration           0.003608\n",
       "Product_Pages                 0.007534\n",
       "GoogleAnalytics_BounceRate    0.019582\n",
       "Product_Duration              0.030282\n",
       "GoogleAnalytics_PageValue     0.167596\n",
       "dtype: float64"
      ]
     },
     "execution_count": 32,
     "metadata": {},
     "output_type": "execute_result"
    }
   ],
   "source": [
    "# Sort the values of coef using the method sort_values().\n",
    "coef.sort_values()"
   ]
  },
  {
   "cell_type": "code",
   "execution_count": 33,
   "metadata": {},
   "outputs": [
    {
     "data": {
      "image/png": "[encoded data removed]",
      "text/plain": [
       "<Figure size 576x720 with 1 Axes>"
      ]
     },
     "metadata": {
      "needs_background": "light"
     },
     "output_type": "display_data"
    }
   ],
   "source": [
    "# By calling the function plot_importance() that we created on step 15, plot the feature importance of the variables, \n",
    "# by passing as parameters the object coef and the name \"Lasso\"\n",
    "plot_importance(coef,'Lasso')"
   ]
  },
  {
   "cell_type": "markdown",
   "metadata": {},
   "source": [
    "AccountMng_Pages              False\n",
    "AccountMng_Duration            True\n",
    "FAQ_Pages                     False\n",
    "FAQ_Duration                  False\n",
    "Product_Pages                  True\n",
    "Product_Duration               True\n",
    "GoogleAnalytics_BounceRate     True\n",
    "GoogleAnalytics_ExitRate       True\n",
    "GoogleAnalytics_PageValue      True\n",
    "\n",
    "OS is IMPORTANT for Prediction\n",
    "Browser is IMPORTANT for Prediction\n",
    "Country is NOT an important predictor. (Discard Country from model)\n",
    "Type_of_Traffic is IMPORTANT for Prediction\n",
    "Type_of_Visitor is IMPORTANT for Prediction\n",
    "Month is IMPORTANT for Prediction"
   ]
  },
  {
   "cell_type": "markdown",
   "metadata": {},
   "source": [
    "# <a class=\"anchor\" id=\"15th-bullet\">\n",
    "\n",
    "## Insights:\n",
    "    \n",
    "</a>"
   ]
  },
  {
   "cell_type": "code",
   "execution_count": 17,
   "metadata": {},
   "outputs": [
    {
     "data": {
      "text/html": [
       "<div>\n",
       "<style scoped>\n",
       "    .dataframe tbody tr th:only-of-type {\n",
       "        vertical-align: middle;\n",
       "    }\n",
       "\n",
       "    .dataframe tbody tr th {\n",
       "        vertical-align: top;\n",
       "    }\n",
       "\n",
       "    .dataframe thead th {\n",
       "        text-align: right;\n",
       "    }\n",
       "</style>\n",
       "<table border=\"1\" class=\"dataframe\">\n",
       "  <thead>\n",
       "    <tr style=\"text-align: right;\">\n",
       "      <th></th>\n",
       "      <th>AccountMng_Duration</th>\n",
       "      <th>Product_Duration</th>\n",
       "      <th>GoogleAnalytics_ExitRate</th>\n",
       "      <th>GoogleAnalytics_PageValue</th>\n",
       "      <th>OS</th>\n",
       "      <th>Type_of_Visitor</th>\n",
       "      <th>Type_of_Traffic</th>\n",
       "      <th>Month</th>\n",
       "      <th>Buy</th>\n",
       "    </tr>\n",
       "    <tr>\n",
       "      <th>Access_ID</th>\n",
       "      <th></th>\n",
       "      <th></th>\n",
       "      <th></th>\n",
       "      <th></th>\n",
       "      <th></th>\n",
       "      <th></th>\n",
       "      <th></th>\n",
       "      <th></th>\n",
       "      <th></th>\n",
       "    </tr>\n",
       "  </thead>\n",
       "  <tbody>\n",
       "    <tr>\n",
       "      <th>102863333</th>\n",
       "      <td>-0.451880</td>\n",
       "      <td>-0.580013</td>\n",
       "      <td>0.481514</td>\n",
       "      <td>-0.317987</td>\n",
       "      <td>MacOSX</td>\n",
       "      <td>Returner</td>\n",
       "      <td>a</td>\n",
       "      <td>March</td>\n",
       "      <td>False</td>\n",
       "    </tr>\n",
       "    <tr>\n",
       "      <th>103117814</th>\n",
       "      <td>-0.451880</td>\n",
       "      <td>-0.263137</td>\n",
       "      <td>0.035185</td>\n",
       "      <td>-0.317987</td>\n",
       "      <td>Windows</td>\n",
       "      <td>Returner</td>\n",
       "      <td>f</td>\n",
       "      <td>May</td>\n",
       "      <td>False</td>\n",
       "    </tr>\n",
       "    <tr>\n",
       "      <th>103201891</th>\n",
       "      <td>-0.451880</td>\n",
       "      <td>-0.564182</td>\n",
       "      <td>0.309534</td>\n",
       "      <td>-0.317987</td>\n",
       "      <td>Windows</td>\n",
       "      <td>Returner</td>\n",
       "      <td>a</td>\n",
       "      <td>December</td>\n",
       "      <td>False</td>\n",
       "    </tr>\n",
       "    <tr>\n",
       "      <th>103226087</th>\n",
       "      <td>-0.451880</td>\n",
       "      <td>-0.301821</td>\n",
       "      <td>-0.372244</td>\n",
       "      <td>1.944222</td>\n",
       "      <td>Windows</td>\n",
       "      <td>Returner</td>\n",
       "      <td>b</td>\n",
       "      <td>December</td>\n",
       "      <td>True</td>\n",
       "    </tr>\n",
       "    <tr>\n",
       "      <th>103234445</th>\n",
       "      <td>-0.451880</td>\n",
       "      <td>0.209465</td>\n",
       "      <td>-0.693684</td>\n",
       "      <td>0.348760</td>\n",
       "      <td>Windows</td>\n",
       "      <td>Returner</td>\n",
       "      <td>c</td>\n",
       "      <td>November</td>\n",
       "      <td>True</td>\n",
       "    </tr>\n",
       "    <tr>\n",
       "      <th>...</th>\n",
       "      <td>...</td>\n",
       "      <td>...</td>\n",
       "      <td>...</td>\n",
       "      <td>...</td>\n",
       "      <td>...</td>\n",
       "      <td>...</td>\n",
       "      <td>...</td>\n",
       "      <td>...</td>\n",
       "      <td>...</td>\n",
       "    </tr>\n",
       "    <tr>\n",
       "      <th>798279589</th>\n",
       "      <td>0.432895</td>\n",
       "      <td>-0.050886</td>\n",
       "      <td>-0.656831</td>\n",
       "      <td>-0.317987</td>\n",
       "      <td>MacOSX</td>\n",
       "      <td>Returner</td>\n",
       "      <td>n</td>\n",
       "      <td>May</td>\n",
       "      <td>False</td>\n",
       "    </tr>\n",
       "    <tr>\n",
       "      <th>798314158</th>\n",
       "      <td>0.522486</td>\n",
       "      <td>-0.598602</td>\n",
       "      <td>-0.656831</td>\n",
       "      <td>-0.317987</td>\n",
       "      <td>Windows</td>\n",
       "      <td>New_Access</td>\n",
       "      <td>e</td>\n",
       "      <td>July</td>\n",
       "      <td>False</td>\n",
       "    </tr>\n",
       "    <tr>\n",
       "      <th>798339820</th>\n",
       "      <td>-0.451880</td>\n",
       "      <td>-0.283820</td>\n",
       "      <td>0.178502</td>\n",
       "      <td>-0.317987</td>\n",
       "      <td>MacOSX</td>\n",
       "      <td>Returner</td>\n",
       "      <td>c</td>\n",
       "      <td>March</td>\n",
       "      <td>False</td>\n",
       "    </tr>\n",
       "    <tr>\n",
       "      <th>798371242</th>\n",
       "      <td>-0.451880</td>\n",
       "      <td>-0.247306</td>\n",
       "      <td>-0.140890</td>\n",
       "      <td>-0.317987</td>\n",
       "      <td>Windows</td>\n",
       "      <td>Returner</td>\n",
       "      <td>c</td>\n",
       "      <td>May</td>\n",
       "      <td>False</td>\n",
       "    </tr>\n",
       "    <tr>\n",
       "      <th>798444008</th>\n",
       "      <td>-0.451880</td>\n",
       "      <td>0.367577</td>\n",
       "      <td>-0.230975</td>\n",
       "      <td>-0.089738</td>\n",
       "      <td>Windows</td>\n",
       "      <td>Returner</td>\n",
       "      <td>a</td>\n",
       "      <td>November</td>\n",
       "      <td>False</td>\n",
       "    </tr>\n",
       "  </tbody>\n",
       "</table>\n",
       "<p>9999 rows × 9 columns</p>\n",
       "</div>"
      ],
      "text/plain": [
       "           AccountMng_Duration  Product_Duration  GoogleAnalytics_ExitRate  \\\n",
       "Access_ID                                                                    \n",
       "102863333            -0.451880         -0.580013                  0.481514   \n",
       "103117814            -0.451880         -0.263137                  0.035185   \n",
       "103201891            -0.451880         -0.564182                  0.309534   \n",
       "103226087            -0.451880         -0.301821                 -0.372244   \n",
       "103234445            -0.451880          0.209465                 -0.693684   \n",
       "...                        ...               ...                       ...   \n",
       "798279589             0.432895         -0.050886                 -0.656831   \n",
       "798314158             0.522486         -0.598602                 -0.656831   \n",
       "798339820            -0.451880         -0.283820                  0.178502   \n",
       "798371242            -0.451880         -0.247306                 -0.140890   \n",
       "798444008            -0.451880          0.367577                 -0.230975   \n",
       "\n",
       "           GoogleAnalytics_PageValue       OS Type_of_Visitor Type_of_Traffic  \\\n",
       "Access_ID                                                                       \n",
       "102863333                  -0.317987   MacOSX        Returner               a   \n",
       "103117814                  -0.317987  Windows        Returner               f   \n",
       "103201891                  -0.317987  Windows        Returner               a   \n",
       "103226087                   1.944222  Windows        Returner               b   \n",
       "103234445                   0.348760  Windows        Returner               c   \n",
       "...                              ...      ...             ...             ...   \n",
       "798279589                  -0.317987   MacOSX        Returner               n   \n",
       "798314158                  -0.317987  Windows      New_Access               e   \n",
       "798339820                  -0.317987   MacOSX        Returner               c   \n",
       "798371242                  -0.317987  Windows        Returner               c   \n",
       "798444008                  -0.089738  Windows        Returner               a   \n",
       "\n",
       "              Month    Buy  \n",
       "Access_ID                   \n",
       "102863333     March  False  \n",
       "103117814       May  False  \n",
       "103201891  December  False  \n",
       "103226087  December   True  \n",
       "103234445  November   True  \n",
       "...             ...    ...  \n",
       "798279589       May  False  \n",
       "798314158      July  False  \n",
       "798339820     March  False  \n",
       "798371242       May  False  \n",
       "798444008  November  False  \n",
       "\n",
       "[9999 rows x 9 columns]"
      ]
     },
     "execution_count": 17,
     "metadata": {},
     "output_type": "execute_result"
    }
   ],
   "source": [
    "dfmf = dfm[['AccountMng_Duration','Product_Duration','GoogleAnalytics_ExitRate',\\\n",
    "            'GoogleAnalytics_PageValue' ,'OS','Type_of_Visitor','Type_of_Traffic','Month']]\n",
    "dfmf_num = dfmf.select_dtypes(exclude=\"object\")\n",
    "scaler = StandardScaler().fit(dfmf_num)\n",
    "dfmf_num_scaled = scaler.transform(dfmf_num) # this will return an array\n",
    "# Convert the array to a pandas dataframe\n",
    "dfmf_num_scaled = pd.DataFrame(dfmf_num_scaled, columns = dfmf_num.columns).set_index(dfmf.index)\n",
    "dfmf = dfmf_num_scaled.join(dfmf.select_dtypes(include='object')).join(dfm['Buy'])\n",
    "dfmf"
   ]
  },
  {
   "cell_type": "markdown",
   "metadata": {},
   "source": [
    "# 5. Modelling - Create a predictive model"
   ]
  },
  {
   "cell_type": "markdown",
   "metadata": {},
   "source": [
    "Model selection"
   ]
  },
  {
   "cell_type": "code",
   "execution_count": 18,
   "metadata": {},
   "outputs": [],
   "source": [
    "#Define metric and non-metric features. \n",
    "categorical = dfmf.select_dtypes(include=\"object\").columns.to_list()\n",
    "numerical = dfmf.columns.drop(categorical).drop([\"Buy\"]).to_list()\n",
    "\n",
    "# Use OneHotEncoder to encode the categorical features. Get feature names and create a DataFrame \n",
    "# with the one-hot encoded categorical features (pass feature names)\n",
    "ohc = OneHotEncoder(sparse=False, drop=\"first\")\n",
    "ohc_feat = ohc.fit_transform(dfmf[categorical])\n",
    "ohc_feat_names = ohc.get_feature_names()\n",
    "ohc_df = pd.DataFrame(ohc_feat, index=dfmf.index, columns=ohc_feat_names)  # Why the index=df_ohc.index?\n",
    "# Reassigning df to contain ohc variables\n",
    "dfmf = pd.concat([dfmf.drop(columns=categorical), ohc_df], axis=1)"
   ]
  },
  {
   "cell_type": "code",
   "execution_count": 19,
   "metadata": {},
   "outputs": [],
   "source": [
    "# Read the dataset dfm1 and define the independent variables as X \n",
    "# and the dependent variable as y .\n",
    "X = dfmf.drop(columns='Buy')\n",
    "y = dfmf['Buy']"
   ]
  },
  {
   "cell_type": "code",
   "execution_count": 20,
   "metadata": {},
   "outputs": [],
   "source": [
    "X_train, X_test, y_train, y_test = train_test_split(X,y, test_size=0.3, random_state=10, stratify=y)"
   ]
  },
  {
   "cell_type": "code",
   "execution_count": 21,
   "metadata": {},
   "outputs": [
    {
     "name": "stdout",
     "output_type": "stream",
     "text": [
      "mean validation F1 for Logistic Regression: 0.48 (+/- 0.04)\n",
      "Test F1 for Logistic Regression : 0.531024531024531\n"
     ]
    }
   ],
   "source": [
    "clf = LogisticRegression()\n",
    "\n",
    "scores = cross_val_score(clf, X_train, y_train.ravel(),\n",
    "                         cv=5, scoring = 'f1')\n",
    "print (\"mean validation F1 for Logistic Regression:\",\n",
    "       \"%0.2f (+/- %0.2f)\" % (scores.mean(), scores.std() * 2))\n",
    "clf = clf.fit(X_train, y_train.ravel())\n",
    "y_pred = clf.predict(X_test)\n",
    "f1 = f1_score(y_test,y_pred)\n",
    "print ('Test F1 for Logistic Regression :', f1)"
   ]
  },
  {
   "cell_type": "code",
   "execution_count": 22,
   "metadata": {},
   "outputs": [
    {
     "name": "stdout",
     "output_type": "stream",
     "text": [
      "mean validation F1 for Decision Tree Classifier: 0.55 (+/- 0.04)\n",
      "Test F1 for Decision Tree Classifier : 0.579381443298969\n"
     ]
    }
   ],
   "source": [
    "clf = DecisionTreeClassifier()\n",
    "\n",
    "scores = cross_val_score(clf, X_train, y_train.ravel(),\n",
    "                         cv=5, scoring = 'f1')\n",
    "print (\"mean validation F1 for Decision Tree Classifier:\",\n",
    "       \"%0.2f (+/- %0.2f)\" % (scores.mean(), scores.std() * 2))\n",
    "clf = clf.fit(X_train, y_train.ravel())\n",
    "y_pred = clf.predict(X_test)\n",
    "f1 = f1_score(y_test,y_pred)\n",
    "print ('Test F1 for Decision Tree Classifier :', f1)"
   ]
  },
  {
   "cell_type": "code",
   "execution_count": 23,
   "metadata": {},
   "outputs": [
    {
     "name": "stdout",
     "output_type": "stream",
     "text": [
      "mean validation F1 for Random Forests: 0.61 (+/- 0.05)\n",
      "Test F1 for Random Forests : 0.6463700234192037\n"
     ]
    }
   ],
   "source": [
    "clf = BaggingClassifier()\n",
    "\n",
    "scores = cross_val_score(clf, X_train, y_train.ravel(),\n",
    "                         cv=5, scoring = 'f1')\n",
    "print (\"mean validation F1 for Random Forests:\",\n",
    "       \"%0.2f (+/- %0.2f)\" % (scores.mean(), scores.std() * 2))\n",
    "clf = clf.fit(X_train, y_train.ravel())\n",
    "y_pred = clf.predict(X_test)\n",
    "f1 = f1_score(y_test,y_pred)\n",
    "print ('Test F1 for Random Forests :', f1)"
   ]
  },
  {
   "cell_type": "code",
   "execution_count": 24,
   "metadata": {},
   "outputs": [
    {
     "name": "stdout",
     "output_type": "stream",
     "text": [
      "mean validation F1 for Random Forests: 0.62 (+/- 0.04)\n",
      "Test F1 for Random Forests : 0.664327485380117\n"
     ]
    }
   ],
   "source": [
    "clf = RandomForestClassifier()\n",
    "\n",
    "scores = cross_val_score(clf, X_train, y_train.ravel(),\n",
    "                         cv=5, scoring = 'f1')\n",
    "print (\"mean validation F1 for Random Forests:\",\n",
    "       \"%0.2f (+/- %0.2f)\" % (scores.mean(), scores.std() * 2))\n",
    "clf = clf.fit(X_train, y_train.ravel())\n",
    "y_pred = clf.predict(X_test)\n",
    "f1 = f1_score(y_test,y_pred)\n",
    "print ('Test F1 for Random Forests :', f1)"
   ]
  },
  {
   "cell_type": "code",
   "execution_count": 25,
   "metadata": {},
   "outputs": [
    {
     "name": "stdout",
     "output_type": "stream",
     "text": [
      "mean validation F1 for neural_network : 0.61 (+/- 0.04)\n",
      "Test F1 for neural_network: 0.6504424778761062\n"
     ]
    }
   ],
   "source": [
    "clf = MLPClassifier()\n",
    "\n",
    "scores = cross_val_score(clf, X_train, y_train.ravel(),\n",
    "                         cv=5, scoring = 'f1')\n",
    "print (\"mean validation F1 for neural_network :\",\n",
    "       \"%0.2f (+/- %0.2f)\" % (scores.mean(), scores.std() * 2))\n",
    "clf = clf.fit(X_train, y_train.ravel())\n",
    "y_pred = clf.predict(X_test)\n",
    "f1 = f1_score(y_test,y_pred)\n",
    "print ('Test F1 for neural_network:', f1)"
   ]
  },
  {
   "cell_type": "code",
   "execution_count": 26,
   "metadata": {},
   "outputs": [
    {
     "name": "stdout",
     "output_type": "stream",
     "text": [
      "mean validation F1 for GaussianNB : 0.30 (+/- 0.02)\n",
      "Test F1 for GaussianNB: 0.3141470180305132\n"
     ]
    }
   ],
   "source": [
    "clf = GaussianNB()\n",
    "\n",
    "scores = cross_val_score(clf, X_train, y_train.ravel(),\n",
    "                         cv=5, scoring = 'f1')\n",
    "print (\"mean validation F1 for GaussianNB :\",\n",
    "       \"%0.2f (+/- %0.2f)\" % (scores.mean(), scores.std() * 2))\n",
    "clf = clf.fit(X_train, y_train.ravel())\n",
    "y_pred = clf.predict(X_test)\n",
    "f1 = f1_score(y_test,y_pred)\n",
    "print ('Test F1 for GaussianNB:', f1)"
   ]
  },
  {
   "cell_type": "code",
   "execution_count": 27,
   "metadata": {},
   "outputs": [
    {
     "name": "stdout",
     "output_type": "stream",
     "text": [
      "[22:03:29] WARNING: C:/Users/Administrator/workspace/xgboost-win64_release_1.5.1/src/learner.cc:1115: Starting in XGBoost 1.3.0, the default evaluation metric used with the objective 'binary:logistic' was changed from 'error' to 'logloss'. Explicitly set eval_metric if you'd like to restore the old behavior.\n",
      "[22:03:30] WARNING: C:/Users/Administrator/workspace/xgboost-win64_release_1.5.1/src/learner.cc:1115: Starting in XGBoost 1.3.0, the default evaluation metric used with the objective 'binary:logistic' was changed from 'error' to 'logloss'. Explicitly set eval_metric if you'd like to restore the old behavior.\n",
      "[22:03:30] WARNING: C:/Users/Administrator/workspace/xgboost-win64_release_1.5.1/src/learner.cc:1115: Starting in XGBoost 1.3.0, the default evaluation metric used with the objective 'binary:logistic' was changed from 'error' to 'logloss'. Explicitly set eval_metric if you'd like to restore the old behavior.\n",
      "[22:03:30] WARNING: C:/Users/Administrator/workspace/xgboost-win64_release_1.5.1/src/learner.cc:1115: Starting in XGBoost 1.3.0, the default evaluation metric used with the objective 'binary:logistic' was changed from 'error' to 'logloss'. Explicitly set eval_metric if you'd like to restore the old behavior.\n",
      "[22:03:31] WARNING: C:/Users/Administrator/workspace/xgboost-win64_release_1.5.1/src/learner.cc:1115: Starting in XGBoost 1.3.0, the default evaluation metric used with the objective 'binary:logistic' was changed from 'error' to 'logloss'. Explicitly set eval_metric if you'd like to restore the old behavior.\n",
      "mean validation F1 for Logistic Regression: 0.61 (+/- 0.03)\n",
      "[22:03:31] WARNING: C:/Users/Administrator/workspace/xgboost-win64_release_1.5.1/src/learner.cc:1115: Starting in XGBoost 1.3.0, the default evaluation metric used with the objective 'binary:logistic' was changed from 'error' to 'logloss'. Explicitly set eval_metric if you'd like to restore the old behavior.\n",
      "Test F1 for Logistic Regression : 0.65\n"
     ]
    }
   ],
   "source": [
    "clf = XGBClassifier()\n",
    "scores = cross_val_score(clf, X_train, y_train.ravel(),\n",
    "                         cv=5, scoring = 'f1')\n",
    "print (\"mean validation F1 for Logistic Regression:\",\n",
    "       \"%0.2f (+/- %0.2f)\" % (scores.mean(), scores.std() * 2))\n",
    "clf = clf.fit(X_train, y_train.ravel())\n",
    "y_pred = clf.predict(X_test)\n",
    "f1 = f1_score(y_test,y_pred)\n",
    "print ('Test F1 for Logistic Regression :', f1)"
   ]
  },
  {
   "cell_type": "code",
   "execution_count": 28,
   "metadata": {},
   "outputs": [
    {
     "name": "stdout",
     "output_type": "stream",
     "text": [
      "mean validation F1 for BalancedRandomForestClassifier : 0.63 (+/- 0.02)\n",
      "Test F1 for BalancedRandomForestClassifier: 0.6336633663366337\n"
     ]
    }
   ],
   "source": [
    "clf = BalancedRandomForestClassifier()\n",
    "\n",
    "scores = cross_val_score(clf, X_train, y_train.ravel(),\n",
    "                         cv=5, scoring = 'f1')\n",
    "print (\"mean validation F1 for BalancedRandomForestClassifier :\",\n",
    "       \"%0.2f (+/- %0.2f)\" % (scores.mean(), scores.std() * 2))\n",
    "clf = clf.fit(X_train, y_train.ravel())\n",
    "y_pred = clf.predict(X_test)\n",
    "f1 = f1_score(y_test,y_pred)\n",
    "print ('Test F1 for BalancedRandomForestClassifier:', f1)"
   ]
  },
  {
   "cell_type": "markdown",
   "metadata": {},
   "source": [
    "from imblearn.over_sampling import RandomOverSampler\n",
    "from imblearn.combine import SMOTEENN\n",
    "\n",
    "because our data is imbalanced data, we tried this two Algorithms to avoid the influence from imbalaced data, but they are not good for our prediction, so we choosed BalancedRandomForestClassifier which is a model\n",
    "that will be working for imbalaced data\n",
    "\n",
    "ros = RandomOverSampler(random_state=0)\n",
    "X_resampled, y_resampled = ros.fit_resample(X, y)\n",
    "\n",
    "smote_enn = SMOTEENN(random_state=0)\n",
    "X_resampled, y_resampled = smote_enn.fit_resample(X, y)\n",
    "\n"
   ]
  },
  {
   "cell_type": "markdown",
   "metadata": {},
   "source": [
    "# Redo Feature selection"
   ]
  },
  {
   "cell_type": "code",
   "execution_count": 29,
   "metadata": {},
   "outputs": [
    {
     "data": {
      "text/html": [
       "<div>\n",
       "<style scoped>\n",
       "    .dataframe tbody tr th:only-of-type {\n",
       "        vertical-align: middle;\n",
       "    }\n",
       "\n",
       "    .dataframe tbody tr th {\n",
       "        vertical-align: top;\n",
       "    }\n",
       "\n",
       "    .dataframe thead th {\n",
       "        text-align: right;\n",
       "    }\n",
       "</style>\n",
       "<table border=\"1\" class=\"dataframe\">\n",
       "  <thead>\n",
       "    <tr style=\"text-align: right;\">\n",
       "      <th></th>\n",
       "      <th>AccountMng_Pages</th>\n",
       "      <th>AccountMng_Duration</th>\n",
       "      <th>FAQ_Pages</th>\n",
       "      <th>FAQ_Duration</th>\n",
       "      <th>Product_Pages</th>\n",
       "      <th>Product_Duration</th>\n",
       "      <th>GoogleAnalytics_BounceRate</th>\n",
       "      <th>GoogleAnalytics_ExitRate</th>\n",
       "      <th>GoogleAnalytics_PageValue</th>\n",
       "      <th>x0_Chrome OS</th>\n",
       "      <th>...</th>\n",
       "      <th>x5_December</th>\n",
       "      <th>x5_February</th>\n",
       "      <th>x5_July</th>\n",
       "      <th>x5_June</th>\n",
       "      <th>x5_March</th>\n",
       "      <th>x5_May</th>\n",
       "      <th>x5_November</th>\n",
       "      <th>x5_October</th>\n",
       "      <th>x5_September</th>\n",
       "      <th>Buy</th>\n",
       "    </tr>\n",
       "    <tr>\n",
       "      <th>Access_ID</th>\n",
       "      <th></th>\n",
       "      <th></th>\n",
       "      <th></th>\n",
       "      <th></th>\n",
       "      <th></th>\n",
       "      <th></th>\n",
       "      <th></th>\n",
       "      <th></th>\n",
       "      <th></th>\n",
       "      <th></th>\n",
       "      <th></th>\n",
       "      <th></th>\n",
       "      <th></th>\n",
       "      <th></th>\n",
       "      <th></th>\n",
       "      <th></th>\n",
       "      <th></th>\n",
       "      <th></th>\n",
       "      <th></th>\n",
       "      <th></th>\n",
       "      <th></th>\n",
       "    </tr>\n",
       "  </thead>\n",
       "  <tbody>\n",
       "    <tr>\n",
       "      <th>102863333</th>\n",
       "      <td>-0.695772</td>\n",
       "      <td>-0.451880</td>\n",
       "      <td>-0.397124</td>\n",
       "      <td>-0.247222</td>\n",
       "      <td>-0.643931</td>\n",
       "      <td>-0.580013</td>\n",
       "      <td>-0.457327</td>\n",
       "      <td>0.481514</td>\n",
       "      <td>-0.317987</td>\n",
       "      <td>0.0</td>\n",
       "      <td>...</td>\n",
       "      <td>0.0</td>\n",
       "      <td>0.0</td>\n",
       "      <td>0.0</td>\n",
       "      <td>0.0</td>\n",
       "      <td>1.0</td>\n",
       "      <td>0.0</td>\n",
       "      <td>0.0</td>\n",
       "      <td>0.0</td>\n",
       "      <td>0.0</td>\n",
       "      <td>False</td>\n",
       "    </tr>\n",
       "    <tr>\n",
       "      <th>103117814</th>\n",
       "      <td>-0.695772</td>\n",
       "      <td>-0.451880</td>\n",
       "      <td>-0.397124</td>\n",
       "      <td>-0.247222</td>\n",
       "      <td>-0.194978</td>\n",
       "      <td>-0.263137</td>\n",
       "      <td>-0.012414</td>\n",
       "      <td>0.035185</td>\n",
       "      <td>-0.317987</td>\n",
       "      <td>0.0</td>\n",
       "      <td>...</td>\n",
       "      <td>0.0</td>\n",
       "      <td>0.0</td>\n",
       "      <td>0.0</td>\n",
       "      <td>0.0</td>\n",
       "      <td>0.0</td>\n",
       "      <td>1.0</td>\n",
       "      <td>0.0</td>\n",
       "      <td>0.0</td>\n",
       "      <td>0.0</td>\n",
       "      <td>False</td>\n",
       "    </tr>\n",
       "    <tr>\n",
       "      <th>103201891</th>\n",
       "      <td>-0.695772</td>\n",
       "      <td>-0.451880</td>\n",
       "      <td>-0.397124</td>\n",
       "      <td>-0.247222</td>\n",
       "      <td>-0.531693</td>\n",
       "      <td>-0.564182</td>\n",
       "      <td>0.055246</td>\n",
       "      <td>0.309534</td>\n",
       "      <td>-0.317987</td>\n",
       "      <td>0.0</td>\n",
       "      <td>...</td>\n",
       "      <td>1.0</td>\n",
       "      <td>0.0</td>\n",
       "      <td>0.0</td>\n",
       "      <td>0.0</td>\n",
       "      <td>0.0</td>\n",
       "      <td>0.0</td>\n",
       "      <td>0.0</td>\n",
       "      <td>0.0</td>\n",
       "      <td>0.0</td>\n",
       "      <td>False</td>\n",
       "    </tr>\n",
       "    <tr>\n",
       "      <th>103226087</th>\n",
       "      <td>-0.695772</td>\n",
       "      <td>-0.451880</td>\n",
       "      <td>-0.397124</td>\n",
       "      <td>-0.247222</td>\n",
       "      <td>-0.509245</td>\n",
       "      <td>-0.301821</td>\n",
       "      <td>-0.457327</td>\n",
       "      <td>-0.372244</td>\n",
       "      <td>1.944222</td>\n",
       "      <td>0.0</td>\n",
       "      <td>...</td>\n",
       "      <td>1.0</td>\n",
       "      <td>0.0</td>\n",
       "      <td>0.0</td>\n",
       "      <td>0.0</td>\n",
       "      <td>0.0</td>\n",
       "      <td>0.0</td>\n",
       "      <td>0.0</td>\n",
       "      <td>0.0</td>\n",
       "      <td>0.0</td>\n",
       "      <td>True</td>\n",
       "    </tr>\n",
       "    <tr>\n",
       "      <th>103234445</th>\n",
       "      <td>-0.695772</td>\n",
       "      <td>-0.451880</td>\n",
       "      <td>1.166200</td>\n",
       "      <td>2.514063</td>\n",
       "      <td>0.096842</td>\n",
       "      <td>0.209465</td>\n",
       "      <td>-0.457327</td>\n",
       "      <td>-0.693684</td>\n",
       "      <td>0.348760</td>\n",
       "      <td>0.0</td>\n",
       "      <td>...</td>\n",
       "      <td>0.0</td>\n",
       "      <td>0.0</td>\n",
       "      <td>0.0</td>\n",
       "      <td>0.0</td>\n",
       "      <td>0.0</td>\n",
       "      <td>0.0</td>\n",
       "      <td>1.0</td>\n",
       "      <td>0.0</td>\n",
       "      <td>0.0</td>\n",
       "      <td>True</td>\n",
       "    </tr>\n",
       "    <tr>\n",
       "      <th>...</th>\n",
       "      <td>...</td>\n",
       "      <td>...</td>\n",
       "      <td>...</td>\n",
       "      <td>...</td>\n",
       "      <td>...</td>\n",
       "      <td>...</td>\n",
       "      <td>...</td>\n",
       "      <td>...</td>\n",
       "      <td>...</td>\n",
       "      <td>...</td>\n",
       "      <td>...</td>\n",
       "      <td>...</td>\n",
       "      <td>...</td>\n",
       "      <td>...</td>\n",
       "      <td>...</td>\n",
       "      <td>...</td>\n",
       "      <td>...</td>\n",
       "      <td>...</td>\n",
       "      <td>...</td>\n",
       "      <td>...</td>\n",
       "      <td>...</td>\n",
       "    </tr>\n",
       "    <tr>\n",
       "      <th>798279589</th>\n",
       "      <td>0.202295</td>\n",
       "      <td>0.432895</td>\n",
       "      <td>1.166200</td>\n",
       "      <td>0.149803</td>\n",
       "      <td>-0.194978</td>\n",
       "      <td>-0.050886</td>\n",
       "      <td>-0.457327</td>\n",
       "      <td>-0.656831</td>\n",
       "      <td>-0.317987</td>\n",
       "      <td>0.0</td>\n",
       "      <td>...</td>\n",
       "      <td>0.0</td>\n",
       "      <td>0.0</td>\n",
       "      <td>0.0</td>\n",
       "      <td>0.0</td>\n",
       "      <td>0.0</td>\n",
       "      <td>1.0</td>\n",
       "      <td>0.0</td>\n",
       "      <td>0.0</td>\n",
       "      <td>0.0</td>\n",
       "      <td>False</td>\n",
       "    </tr>\n",
       "    <tr>\n",
       "      <th>798314158</th>\n",
       "      <td>1.100362</td>\n",
       "      <td>0.522486</td>\n",
       "      <td>-0.397124</td>\n",
       "      <td>-0.247222</td>\n",
       "      <td>-0.643931</td>\n",
       "      <td>-0.598602</td>\n",
       "      <td>-0.457327</td>\n",
       "      <td>-0.656831</td>\n",
       "      <td>-0.317987</td>\n",
       "      <td>0.0</td>\n",
       "      <td>...</td>\n",
       "      <td>0.0</td>\n",
       "      <td>0.0</td>\n",
       "      <td>1.0</td>\n",
       "      <td>0.0</td>\n",
       "      <td>0.0</td>\n",
       "      <td>0.0</td>\n",
       "      <td>0.0</td>\n",
       "      <td>0.0</td>\n",
       "      <td>0.0</td>\n",
       "      <td>False</td>\n",
       "    </tr>\n",
       "    <tr>\n",
       "      <th>798339820</th>\n",
       "      <td>-0.695772</td>\n",
       "      <td>-0.451880</td>\n",
       "      <td>-0.397124</td>\n",
       "      <td>-0.247222</td>\n",
       "      <td>-0.105187</td>\n",
       "      <td>-0.283820</td>\n",
       "      <td>-0.299454</td>\n",
       "      <td>0.178502</td>\n",
       "      <td>-0.317987</td>\n",
       "      <td>0.0</td>\n",
       "      <td>...</td>\n",
       "      <td>0.0</td>\n",
       "      <td>0.0</td>\n",
       "      <td>0.0</td>\n",
       "      <td>0.0</td>\n",
       "      <td>1.0</td>\n",
       "      <td>0.0</td>\n",
       "      <td>0.0</td>\n",
       "      <td>0.0</td>\n",
       "      <td>0.0</td>\n",
       "      <td>False</td>\n",
       "    </tr>\n",
       "    <tr>\n",
       "      <th>798371242</th>\n",
       "      <td>-0.695772</td>\n",
       "      <td>-0.451880</td>\n",
       "      <td>-0.397124</td>\n",
       "      <td>-0.247222</td>\n",
       "      <td>0.478453</td>\n",
       "      <td>-0.247306</td>\n",
       "      <td>0.006039</td>\n",
       "      <td>-0.140890</td>\n",
       "      <td>-0.317987</td>\n",
       "      <td>0.0</td>\n",
       "      <td>...</td>\n",
       "      <td>0.0</td>\n",
       "      <td>0.0</td>\n",
       "      <td>0.0</td>\n",
       "      <td>0.0</td>\n",
       "      <td>0.0</td>\n",
       "      <td>1.0</td>\n",
       "      <td>0.0</td>\n",
       "      <td>0.0</td>\n",
       "      <td>0.0</td>\n",
       "      <td>False</td>\n",
       "    </tr>\n",
       "    <tr>\n",
       "      <th>798444008</th>\n",
       "      <td>-0.695772</td>\n",
       "      <td>-0.451880</td>\n",
       "      <td>-0.397124</td>\n",
       "      <td>-0.247222</td>\n",
       "      <td>-0.194978</td>\n",
       "      <td>0.367577</td>\n",
       "      <td>-0.278951</td>\n",
       "      <td>-0.230975</td>\n",
       "      <td>-0.089738</td>\n",
       "      <td>0.0</td>\n",
       "      <td>...</td>\n",
       "      <td>0.0</td>\n",
       "      <td>0.0</td>\n",
       "      <td>0.0</td>\n",
       "      <td>0.0</td>\n",
       "      <td>0.0</td>\n",
       "      <td>0.0</td>\n",
       "      <td>1.0</td>\n",
       "      <td>0.0</td>\n",
       "      <td>0.0</td>\n",
       "      <td>False</td>\n",
       "    </tr>\n",
       "  </tbody>\n",
       "</table>\n",
       "<p>9999 rows × 61 columns</p>\n",
       "</div>"
      ],
      "text/plain": [
       "           AccountMng_Pages  AccountMng_Duration  FAQ_Pages  FAQ_Duration  \\\n",
       "Access_ID                                                                   \n",
       "102863333         -0.695772            -0.451880  -0.397124     -0.247222   \n",
       "103117814         -0.695772            -0.451880  -0.397124     -0.247222   \n",
       "103201891         -0.695772            -0.451880  -0.397124     -0.247222   \n",
       "103226087         -0.695772            -0.451880  -0.397124     -0.247222   \n",
       "103234445         -0.695772            -0.451880   1.166200      2.514063   \n",
       "...                     ...                  ...        ...           ...   \n",
       "798279589          0.202295             0.432895   1.166200      0.149803   \n",
       "798314158          1.100362             0.522486  -0.397124     -0.247222   \n",
       "798339820         -0.695772            -0.451880  -0.397124     -0.247222   \n",
       "798371242         -0.695772            -0.451880  -0.397124     -0.247222   \n",
       "798444008         -0.695772            -0.451880  -0.397124     -0.247222   \n",
       "\n",
       "           Product_Pages  Product_Duration  GoogleAnalytics_BounceRate  \\\n",
       "Access_ID                                                                \n",
       "102863333      -0.643931         -0.580013                   -0.457327   \n",
       "103117814      -0.194978         -0.263137                   -0.012414   \n",
       "103201891      -0.531693         -0.564182                    0.055246   \n",
       "103226087      -0.509245         -0.301821                   -0.457327   \n",
       "103234445       0.096842          0.209465                   -0.457327   \n",
       "...                  ...               ...                         ...   \n",
       "798279589      -0.194978         -0.050886                   -0.457327   \n",
       "798314158      -0.643931         -0.598602                   -0.457327   \n",
       "798339820      -0.105187         -0.283820                   -0.299454   \n",
       "798371242       0.478453         -0.247306                    0.006039   \n",
       "798444008      -0.194978          0.367577                   -0.278951   \n",
       "\n",
       "           GoogleAnalytics_ExitRate  GoogleAnalytics_PageValue  x0_Chrome OS  \\\n",
       "Access_ID                                                                      \n",
       "102863333                  0.481514                  -0.317987           0.0   \n",
       "103117814                  0.035185                  -0.317987           0.0   \n",
       "103201891                  0.309534                  -0.317987           0.0   \n",
       "103226087                 -0.372244                   1.944222           0.0   \n",
       "103234445                 -0.693684                   0.348760           0.0   \n",
       "...                             ...                        ...           ...   \n",
       "798279589                 -0.656831                  -0.317987           0.0   \n",
       "798314158                 -0.656831                  -0.317987           0.0   \n",
       "798339820                  0.178502                  -0.317987           0.0   \n",
       "798371242                 -0.140890                  -0.317987           0.0   \n",
       "798444008                 -0.230975                  -0.089738           0.0   \n",
       "\n",
       "           ...  x5_December  x5_February  x5_July  x5_June  x5_March  x5_May  \\\n",
       "Access_ID  ...                                                                 \n",
       "102863333  ...          0.0          0.0      0.0      0.0       1.0     0.0   \n",
       "103117814  ...          0.0          0.0      0.0      0.0       0.0     1.0   \n",
       "103201891  ...          1.0          0.0      0.0      0.0       0.0     0.0   \n",
       "103226087  ...          1.0          0.0      0.0      0.0       0.0     0.0   \n",
       "103234445  ...          0.0          0.0      0.0      0.0       0.0     0.0   \n",
       "...        ...          ...          ...      ...      ...       ...     ...   \n",
       "798279589  ...          0.0          0.0      0.0      0.0       0.0     1.0   \n",
       "798314158  ...          0.0          0.0      1.0      0.0       0.0     0.0   \n",
       "798339820  ...          0.0          0.0      0.0      0.0       1.0     0.0   \n",
       "798371242  ...          0.0          0.0      0.0      0.0       0.0     1.0   \n",
       "798444008  ...          0.0          0.0      0.0      0.0       0.0     0.0   \n",
       "\n",
       "           x5_November  x5_October  x5_September    Buy  \n",
       "Access_ID                                                \n",
       "102863333          0.0         0.0           0.0  False  \n",
       "103117814          0.0         0.0           0.0  False  \n",
       "103201891          0.0         0.0           0.0  False  \n",
       "103226087          0.0         0.0           0.0   True  \n",
       "103234445          1.0         0.0           0.0   True  \n",
       "...                ...         ...           ...    ...  \n",
       "798279589          0.0         0.0           0.0  False  \n",
       "798314158          0.0         0.0           0.0  False  \n",
       "798339820          0.0         0.0           0.0  False  \n",
       "798371242          0.0         0.0           0.0  False  \n",
       "798444008          1.0         0.0           0.0  False  \n",
       "\n",
       "[9999 rows x 61 columns]"
      ]
     },
     "execution_count": 29,
     "metadata": {},
     "output_type": "execute_result"
    }
   ],
   "source": [
    "dfmf2=dfm.copy()\n",
    "\n",
    "dfmf2_num = dfmf2.select_dtypes(exclude=['object','bool']).set_index(dfmf2.index)\n",
    "scaler = StandardScaler().fit(dfmf2_num)\n",
    "dfmf2_num_scaled = scaler.transform(dfmf2_num) # this will return an array\n",
    "# Convert the array to a pandas dataframe\n",
    "dfmf2_num_scaled = pd.DataFrame(dfmf2_num_scaled, columns = dfmf2_num.columns).set_index(dfmf2.index)\n",
    "dfmf2 = dfmf2_num_scaled.join(dfmf2.select_dtypes(include='object').set_index(dfmf2.index))\n",
    "\n",
    "#Define metric and non-metric features. \n",
    "categorical = dfmf2.select_dtypes(include=\"object\").columns.to_list()\n",
    "numerical = dfmf2.columns.drop(categorical).to_list()\n",
    "\n",
    "# Use OneHotEncoder to encode the categorical features. Get feature names and create a DataFrame \n",
    "# with the one-hot encoded categorical features (pass feature names)\n",
    "ohc = OneHotEncoder(sparse=False, drop=\"first\")\n",
    "ohc_feat = ohc.fit_transform(dfmf2[categorical])\n",
    "ohc_feat_names = ohc.get_feature_names()\n",
    "ohc_df = pd.DataFrame(ohc_feat, index=dfmf2.index, columns=ohc_feat_names)  # Why the index=df_ohc.index?\n",
    "# Reassigning df to contain ohc variables\n",
    "dfmf2 = pd.concat([dfmf2.drop(columns=categorical), ohc_df,dfm['Buy']], axis=1)\n",
    "dfmf2"
   ]
  },
  {
   "cell_type": "code",
   "execution_count": 30,
   "metadata": {},
   "outputs": [],
   "source": [
    "# Read the dataset dfmf2 and define the independent variables as X \n",
    "# and the dependent variable as y .\n",
    "X = dfmf2.drop(columns='Buy')\n",
    "y = dfmf2['Buy']\n",
    "X_train, X_test, y_train, y_test = train_test_split(X,y, test_size=0.2, random_state=10, stratify=y)"
   ]
  },
  {
   "cell_type": "code",
   "execution_count": 31,
   "metadata": {},
   "outputs": [],
   "source": [
    "feature_importances = BalancedRandomForestClassifier().fit(X_train, y_train).feature_importances_"
   ]
  },
  {
   "cell_type": "code",
   "execution_count": 32,
   "metadata": {},
   "outputs": [
    {
     "data": {
      "text/plain": [
       "<AxesSubplot:xlabel='Value', ylabel='Col'>"
      ]
     },
     "execution_count": 32,
     "metadata": {},
     "output_type": "execute_result"
    },
    {
     "data": {
      "image/png": "[encoded data removed]",
      "text/plain": [
       "<Figure size 1080x1080 with 1 Axes>"
      ]
     },
     "metadata": {
      "needs_background": "light"
     },
     "output_type": "display_data"
    }
   ],
   "source": [
    "zippy = pd.DataFrame(zip(feature_importances), columns = ['importance'])\n",
    "zippy['col'] = X_train.columns\n",
    "tidy = zippy.melt(id_vars='col').rename(columns=str.title)\n",
    "tidy.sort_values(['Value'], ascending = False, inplace = True)\n",
    "\n",
    "plt.figure(figsize=(15,15))\n",
    "sns.barplot(y='Col', x='Value', hue='Variable', data=tidy)"
   ]
  },
  {
   "cell_type": "code",
   "execution_count": 33,
   "metadata": {},
   "outputs": [
    {
     "data": {
      "text/html": [
       "<div>\n",
       "<style scoped>\n",
       "    .dataframe tbody tr th:only-of-type {\n",
       "        vertical-align: middle;\n",
       "    }\n",
       "\n",
       "    .dataframe tbody tr th {\n",
       "        vertical-align: top;\n",
       "    }\n",
       "\n",
       "    .dataframe thead th {\n",
       "        text-align: right;\n",
       "    }\n",
       "</style>\n",
       "<table border=\"1\" class=\"dataframe\">\n",
       "  <thead>\n",
       "    <tr style=\"text-align: right;\">\n",
       "      <th></th>\n",
       "      <th>AccountMng_Duration</th>\n",
       "      <th>Product_Duration</th>\n",
       "      <th>GoogleAnalytics_ExitRate</th>\n",
       "      <th>GoogleAnalytics_PageValue</th>\n",
       "      <th>x0_Other</th>\n",
       "      <th>x0_Returner</th>\n",
       "      <th>x1_b</th>\n",
       "      <th>x1_c</th>\n",
       "      <th>x1_d</th>\n",
       "      <th>x1_e</th>\n",
       "      <th>...</th>\n",
       "      <th>x2_December</th>\n",
       "      <th>x2_February</th>\n",
       "      <th>x2_July</th>\n",
       "      <th>x2_June</th>\n",
       "      <th>x2_March</th>\n",
       "      <th>x2_May</th>\n",
       "      <th>x2_November</th>\n",
       "      <th>x2_October</th>\n",
       "      <th>x2_September</th>\n",
       "      <th>Buy</th>\n",
       "    </tr>\n",
       "    <tr>\n",
       "      <th>Access_ID</th>\n",
       "      <th></th>\n",
       "      <th></th>\n",
       "      <th></th>\n",
       "      <th></th>\n",
       "      <th></th>\n",
       "      <th></th>\n",
       "      <th></th>\n",
       "      <th></th>\n",
       "      <th></th>\n",
       "      <th></th>\n",
       "      <th></th>\n",
       "      <th></th>\n",
       "      <th></th>\n",
       "      <th></th>\n",
       "      <th></th>\n",
       "      <th></th>\n",
       "      <th></th>\n",
       "      <th></th>\n",
       "      <th></th>\n",
       "      <th></th>\n",
       "      <th></th>\n",
       "    </tr>\n",
       "  </thead>\n",
       "  <tbody>\n",
       "    <tr>\n",
       "      <th>102863333</th>\n",
       "      <td>-0.451880</td>\n",
       "      <td>-0.580013</td>\n",
       "      <td>0.481514</td>\n",
       "      <td>-0.317987</td>\n",
       "      <td>0.0</td>\n",
       "      <td>1.0</td>\n",
       "      <td>0.0</td>\n",
       "      <td>0.0</td>\n",
       "      <td>0.0</td>\n",
       "      <td>0.0</td>\n",
       "      <td>...</td>\n",
       "      <td>0.0</td>\n",
       "      <td>0.0</td>\n",
       "      <td>0.0</td>\n",
       "      <td>0.0</td>\n",
       "      <td>1.0</td>\n",
       "      <td>0.0</td>\n",
       "      <td>0.0</td>\n",
       "      <td>0.0</td>\n",
       "      <td>0.0</td>\n",
       "      <td>False</td>\n",
       "    </tr>\n",
       "    <tr>\n",
       "      <th>103117814</th>\n",
       "      <td>-0.451880</td>\n",
       "      <td>-0.263137</td>\n",
       "      <td>0.035185</td>\n",
       "      <td>-0.317987</td>\n",
       "      <td>0.0</td>\n",
       "      <td>1.0</td>\n",
       "      <td>0.0</td>\n",
       "      <td>0.0</td>\n",
       "      <td>0.0</td>\n",
       "      <td>0.0</td>\n",
       "      <td>...</td>\n",
       "      <td>0.0</td>\n",
       "      <td>0.0</td>\n",
       "      <td>0.0</td>\n",
       "      <td>0.0</td>\n",
       "      <td>0.0</td>\n",
       "      <td>1.0</td>\n",
       "      <td>0.0</td>\n",
       "      <td>0.0</td>\n",
       "      <td>0.0</td>\n",
       "      <td>False</td>\n",
       "    </tr>\n",
       "    <tr>\n",
       "      <th>103201891</th>\n",
       "      <td>-0.451880</td>\n",
       "      <td>-0.564182</td>\n",
       "      <td>0.309534</td>\n",
       "      <td>-0.317987</td>\n",
       "      <td>0.0</td>\n",
       "      <td>1.0</td>\n",
       "      <td>0.0</td>\n",
       "      <td>0.0</td>\n",
       "      <td>0.0</td>\n",
       "      <td>0.0</td>\n",
       "      <td>...</td>\n",
       "      <td>1.0</td>\n",
       "      <td>0.0</td>\n",
       "      <td>0.0</td>\n",
       "      <td>0.0</td>\n",
       "      <td>0.0</td>\n",
       "      <td>0.0</td>\n",
       "      <td>0.0</td>\n",
       "      <td>0.0</td>\n",
       "      <td>0.0</td>\n",
       "      <td>False</td>\n",
       "    </tr>\n",
       "    <tr>\n",
       "      <th>103226087</th>\n",
       "      <td>-0.451880</td>\n",
       "      <td>-0.301821</td>\n",
       "      <td>-0.372244</td>\n",
       "      <td>1.944222</td>\n",
       "      <td>0.0</td>\n",
       "      <td>1.0</td>\n",
       "      <td>1.0</td>\n",
       "      <td>0.0</td>\n",
       "      <td>0.0</td>\n",
       "      <td>0.0</td>\n",
       "      <td>...</td>\n",
       "      <td>1.0</td>\n",
       "      <td>0.0</td>\n",
       "      <td>0.0</td>\n",
       "      <td>0.0</td>\n",
       "      <td>0.0</td>\n",
       "      <td>0.0</td>\n",
       "      <td>0.0</td>\n",
       "      <td>0.0</td>\n",
       "      <td>0.0</td>\n",
       "      <td>True</td>\n",
       "    </tr>\n",
       "    <tr>\n",
       "      <th>103234445</th>\n",
       "      <td>-0.451880</td>\n",
       "      <td>0.209465</td>\n",
       "      <td>-0.693684</td>\n",
       "      <td>0.348760</td>\n",
       "      <td>0.0</td>\n",
       "      <td>1.0</td>\n",
       "      <td>0.0</td>\n",
       "      <td>1.0</td>\n",
       "      <td>0.0</td>\n",
       "      <td>0.0</td>\n",
       "      <td>...</td>\n",
       "      <td>0.0</td>\n",
       "      <td>0.0</td>\n",
       "      <td>0.0</td>\n",
       "      <td>0.0</td>\n",
       "      <td>0.0</td>\n",
       "      <td>0.0</td>\n",
       "      <td>1.0</td>\n",
       "      <td>0.0</td>\n",
       "      <td>0.0</td>\n",
       "      <td>True</td>\n",
       "    </tr>\n",
       "    <tr>\n",
       "      <th>...</th>\n",
       "      <td>...</td>\n",
       "      <td>...</td>\n",
       "      <td>...</td>\n",
       "      <td>...</td>\n",
       "      <td>...</td>\n",
       "      <td>...</td>\n",
       "      <td>...</td>\n",
       "      <td>...</td>\n",
       "      <td>...</td>\n",
       "      <td>...</td>\n",
       "      <td>...</td>\n",
       "      <td>...</td>\n",
       "      <td>...</td>\n",
       "      <td>...</td>\n",
       "      <td>...</td>\n",
       "      <td>...</td>\n",
       "      <td>...</td>\n",
       "      <td>...</td>\n",
       "      <td>...</td>\n",
       "      <td>...</td>\n",
       "      <td>...</td>\n",
       "    </tr>\n",
       "    <tr>\n",
       "      <th>798279589</th>\n",
       "      <td>0.432895</td>\n",
       "      <td>-0.050886</td>\n",
       "      <td>-0.656831</td>\n",
       "      <td>-0.317987</td>\n",
       "      <td>0.0</td>\n",
       "      <td>1.0</td>\n",
       "      <td>0.0</td>\n",
       "      <td>0.0</td>\n",
       "      <td>0.0</td>\n",
       "      <td>0.0</td>\n",
       "      <td>...</td>\n",
       "      <td>0.0</td>\n",
       "      <td>0.0</td>\n",
       "      <td>0.0</td>\n",
       "      <td>0.0</td>\n",
       "      <td>0.0</td>\n",
       "      <td>1.0</td>\n",
       "      <td>0.0</td>\n",
       "      <td>0.0</td>\n",
       "      <td>0.0</td>\n",
       "      <td>False</td>\n",
       "    </tr>\n",
       "    <tr>\n",
       "      <th>798314158</th>\n",
       "      <td>0.522486</td>\n",
       "      <td>-0.598602</td>\n",
       "      <td>-0.656831</td>\n",
       "      <td>-0.317987</td>\n",
       "      <td>0.0</td>\n",
       "      <td>0.0</td>\n",
       "      <td>0.0</td>\n",
       "      <td>0.0</td>\n",
       "      <td>0.0</td>\n",
       "      <td>1.0</td>\n",
       "      <td>...</td>\n",
       "      <td>0.0</td>\n",
       "      <td>0.0</td>\n",
       "      <td>1.0</td>\n",
       "      <td>0.0</td>\n",
       "      <td>0.0</td>\n",
       "      <td>0.0</td>\n",
       "      <td>0.0</td>\n",
       "      <td>0.0</td>\n",
       "      <td>0.0</td>\n",
       "      <td>False</td>\n",
       "    </tr>\n",
       "    <tr>\n",
       "      <th>798339820</th>\n",
       "      <td>-0.451880</td>\n",
       "      <td>-0.283820</td>\n",
       "      <td>0.178502</td>\n",
       "      <td>-0.317987</td>\n",
       "      <td>0.0</td>\n",
       "      <td>1.0</td>\n",
       "      <td>0.0</td>\n",
       "      <td>1.0</td>\n",
       "      <td>0.0</td>\n",
       "      <td>0.0</td>\n",
       "      <td>...</td>\n",
       "      <td>0.0</td>\n",
       "      <td>0.0</td>\n",
       "      <td>0.0</td>\n",
       "      <td>0.0</td>\n",
       "      <td>1.0</td>\n",
       "      <td>0.0</td>\n",
       "      <td>0.0</td>\n",
       "      <td>0.0</td>\n",
       "      <td>0.0</td>\n",
       "      <td>False</td>\n",
       "    </tr>\n",
       "    <tr>\n",
       "      <th>798371242</th>\n",
       "      <td>-0.451880</td>\n",
       "      <td>-0.247306</td>\n",
       "      <td>-0.140890</td>\n",
       "      <td>-0.317987</td>\n",
       "      <td>0.0</td>\n",
       "      <td>1.0</td>\n",
       "      <td>0.0</td>\n",
       "      <td>1.0</td>\n",
       "      <td>0.0</td>\n",
       "      <td>0.0</td>\n",
       "      <td>...</td>\n",
       "      <td>0.0</td>\n",
       "      <td>0.0</td>\n",
       "      <td>0.0</td>\n",
       "      <td>0.0</td>\n",
       "      <td>0.0</td>\n",
       "      <td>1.0</td>\n",
       "      <td>0.0</td>\n",
       "      <td>0.0</td>\n",
       "      <td>0.0</td>\n",
       "      <td>False</td>\n",
       "    </tr>\n",
       "    <tr>\n",
       "      <th>798444008</th>\n",
       "      <td>-0.451880</td>\n",
       "      <td>0.367577</td>\n",
       "      <td>-0.230975</td>\n",
       "      <td>-0.089738</td>\n",
       "      <td>0.0</td>\n",
       "      <td>1.0</td>\n",
       "      <td>0.0</td>\n",
       "      <td>0.0</td>\n",
       "      <td>0.0</td>\n",
       "      <td>0.0</td>\n",
       "      <td>...</td>\n",
       "      <td>0.0</td>\n",
       "      <td>0.0</td>\n",
       "      <td>0.0</td>\n",
       "      <td>0.0</td>\n",
       "      <td>0.0</td>\n",
       "      <td>0.0</td>\n",
       "      <td>1.0</td>\n",
       "      <td>0.0</td>\n",
       "      <td>0.0</td>\n",
       "      <td>False</td>\n",
       "    </tr>\n",
       "  </tbody>\n",
       "</table>\n",
       "<p>9999 rows × 30 columns</p>\n",
       "</div>"
      ],
      "text/plain": [
       "           AccountMng_Duration  Product_Duration  GoogleAnalytics_ExitRate  \\\n",
       "Access_ID                                                                    \n",
       "102863333            -0.451880         -0.580013                  0.481514   \n",
       "103117814            -0.451880         -0.263137                  0.035185   \n",
       "103201891            -0.451880         -0.564182                  0.309534   \n",
       "103226087            -0.451880         -0.301821                 -0.372244   \n",
       "103234445            -0.451880          0.209465                 -0.693684   \n",
       "...                        ...               ...                       ...   \n",
       "798279589             0.432895         -0.050886                 -0.656831   \n",
       "798314158             0.522486         -0.598602                 -0.656831   \n",
       "798339820            -0.451880         -0.283820                  0.178502   \n",
       "798371242            -0.451880         -0.247306                 -0.140890   \n",
       "798444008            -0.451880          0.367577                 -0.230975   \n",
       "\n",
       "           GoogleAnalytics_PageValue  x0_Other  x0_Returner  x1_b  x1_c  x1_d  \\\n",
       "Access_ID                                                                       \n",
       "102863333                  -0.317987       0.0          1.0   0.0   0.0   0.0   \n",
       "103117814                  -0.317987       0.0          1.0   0.0   0.0   0.0   \n",
       "103201891                  -0.317987       0.0          1.0   0.0   0.0   0.0   \n",
       "103226087                   1.944222       0.0          1.0   1.0   0.0   0.0   \n",
       "103234445                   0.348760       0.0          1.0   0.0   1.0   0.0   \n",
       "...                              ...       ...          ...   ...   ...   ...   \n",
       "798279589                  -0.317987       0.0          1.0   0.0   0.0   0.0   \n",
       "798314158                  -0.317987       0.0          0.0   0.0   0.0   0.0   \n",
       "798339820                  -0.317987       0.0          1.0   0.0   1.0   0.0   \n",
       "798371242                  -0.317987       0.0          1.0   0.0   1.0   0.0   \n",
       "798444008                  -0.089738       0.0          1.0   0.0   0.0   0.0   \n",
       "\n",
       "           x1_e  ...  x2_December  x2_February  x2_July  x2_June  x2_March  \\\n",
       "Access_ID        ...                                                         \n",
       "102863333   0.0  ...          0.0          0.0      0.0      0.0       1.0   \n",
       "103117814   0.0  ...          0.0          0.0      0.0      0.0       0.0   \n",
       "103201891   0.0  ...          1.0          0.0      0.0      0.0       0.0   \n",
       "103226087   0.0  ...          1.0          0.0      0.0      0.0       0.0   \n",
       "103234445   0.0  ...          0.0          0.0      0.0      0.0       0.0   \n",
       "...         ...  ...          ...          ...      ...      ...       ...   \n",
       "798279589   0.0  ...          0.0          0.0      0.0      0.0       0.0   \n",
       "798314158   1.0  ...          0.0          0.0      1.0      0.0       0.0   \n",
       "798339820   0.0  ...          0.0          0.0      0.0      0.0       1.0   \n",
       "798371242   0.0  ...          0.0          0.0      0.0      0.0       0.0   \n",
       "798444008   0.0  ...          0.0          0.0      0.0      0.0       0.0   \n",
       "\n",
       "           x2_May  x2_November  x2_October  x2_September    Buy  \n",
       "Access_ID                                                        \n",
       "102863333     0.0          0.0         0.0           0.0  False  \n",
       "103117814     1.0          0.0         0.0           0.0  False  \n",
       "103201891     0.0          0.0         0.0           0.0  False  \n",
       "103226087     0.0          0.0         0.0           0.0   True  \n",
       "103234445     0.0          1.0         0.0           0.0   True  \n",
       "...           ...          ...         ...           ...    ...  \n",
       "798279589     1.0          0.0         0.0           0.0  False  \n",
       "798314158     0.0          0.0         0.0           0.0  False  \n",
       "798339820     0.0          0.0         0.0           0.0  False  \n",
       "798371242     1.0          0.0         0.0           0.0  False  \n",
       "798444008     0.0          1.0         0.0           0.0  False  \n",
       "\n",
       "[9999 rows x 30 columns]"
      ]
     },
     "execution_count": 33,
     "metadata": {},
     "output_type": "execute_result"
    }
   ],
   "source": [
    "dfmf3 = dfm[['AccountMng_Duration','Product_Duration','GoogleAnalytics_ExitRate',\\\n",
    "            'GoogleAnalytics_PageValue' ,'Type_of_Visitor','Type_of_Traffic','Month']]\n",
    "dfmf3_num = dfmf3.select_dtypes(exclude=['object','bool']).set_index(dfmf3.index)\n",
    "scaler = StandardScaler().fit(dfmf3_num)\n",
    "dfmf3_num_scaled = scaler.transform(dfmf3_num) # this will return an array\n",
    "# Convert the array to a pandas dataframe\n",
    "dfmf3_num_scaled = pd.DataFrame(dfmf3_num_scaled, columns = dfmf3_num.columns).set_index(dfmf3.index)\n",
    "dfmf3 = dfmf3_num_scaled.join(dfmf3.select_dtypes(include='object').set_index(dfmf3.index))\n",
    "\n",
    "#Define metric and non-metric features. \n",
    "categorical = dfmf3.select_dtypes(include=\"object\").columns.to_list()\n",
    "numerical = dfmf3.columns.drop(categorical).to_list()\n",
    "\n",
    "# Use OneHotEncoder to encode the categorical features. Get feature names and create a DataFrame \n",
    "# with the one-hot encoded categorical features (pass feature names)\n",
    "ohc = OneHotEncoder(sparse=False, drop=\"first\")\n",
    "ohc_feat = ohc.fit_transform(dfmf3[categorical])\n",
    "ohc_feat_names = ohc.get_feature_names()\n",
    "ohc_df = pd.DataFrame(ohc_feat, index=dfmf3.index, columns=ohc_feat_names)  # Why the index=df_ohc.index?\n",
    "# Reassigning df to contain ohc variables\n",
    "dfmf3 = pd.concat([dfmf3.drop(columns=categorical), ohc_df,dfm['Buy']], axis=1)\n",
    "dfmf3"
   ]
  },
  {
   "cell_type": "code",
   "execution_count": 34,
   "metadata": {},
   "outputs": [],
   "source": [
    "# Read the dataset dfmf2 and define the independent variables as X \n",
    "# and the dependent variable as y .\n",
    "X = dfmf3.drop(columns='Buy')\n",
    "y = dfmf3['Buy']\n",
    "X_train, X_test, y_train, y_test = train_test_split(X,y, test_size=0.2, random_state=10, stratify=y)"
   ]
  },
  {
   "cell_type": "markdown",
   "metadata": {},
   "source": [
    "# Parameters Tunning"
   ]
  },
  {
   "cell_type": "code",
   "execution_count": 35,
   "metadata": {},
   "outputs": [
    {
     "data": {
      "text/plain": [
       "GridSearchCV(estimator=BalancedRandomForestClassifier(),\n",
       "             param_grid={'n_estimators': [100, 200, 300, 400, 500]},\n",
       "             scoring='f1')"
      ]
     },
     "execution_count": 35,
     "metadata": {},
     "output_type": "execute_result"
    }
   ],
   "source": [
    "parameter_space = {'n_estimators': [100,200,300,400,500]}\n",
    "clf = GridSearchCV(BalancedRandomForestClassifier(), parameter_space, scoring = 'f1')\n",
    "clf.fit(X_train, y_train)"
   ]
  },
  {
   "cell_type": "code",
   "execution_count": 36,
   "metadata": {},
   "outputs": [
    {
     "name": "stdout",
     "output_type": "stream",
     "text": [
      "------------------------------------------------------------------------------------------------------------------------\n",
      "Best parameters found:\n",
      " {'n_estimators': 400}\n",
      "------------------------------------------------------------------------------------------------------------------------\n",
      "0.622 (+/-0.011) for {'n_estimators': 100}\n",
      "0.621 (+/-0.008) for {'n_estimators': 200}\n",
      "0.621 (+/-0.008) for {'n_estimators': 300}\n",
      "0.623 (+/-0.006) for {'n_estimators': 400}\n",
      "0.622 (+/-0.006) for {'n_estimators': 500}\n"
     ]
    }
   ],
   "source": [
    "# Best parameter set\n",
    "print('------------------------------------------------------------------------------------------------------------------------')\n",
    "print('Best parameters found:\\n', clf.best_params_)\n",
    "print('------------------------------------------------------------------------------------------------------------------------')\n",
    "\n",
    "# All results\n",
    "means = clf.cv_results_['mean_test_score']\n",
    "stds = clf.cv_results_['std_test_score']\n",
    "for mean, std, params in zip(means, stds, clf.cv_results_['params']):\n",
    "    print(\"%0.3f (+/-%0.03f) for %r\" % (mean, std , params))"
   ]
  },
  {
   "cell_type": "code",
   "execution_count": 37,
   "metadata": {},
   "outputs": [
    {
     "data": {
      "text/plain": [
       "GridSearchCV(estimator=BalancedRandomForestClassifier(),\n",
       "             param_grid={'criterion': ['gini', 'entropy']}, scoring='f1')"
      ]
     },
     "execution_count": 37,
     "metadata": {},
     "output_type": "execute_result"
    }
   ],
   "source": [
    "parameter_space = {'criterion': ['gini', 'entropy']}\n",
    "clf = GridSearchCV(BalancedRandomForestClassifier(), parameter_space, scoring = 'f1')\n",
    "clf.fit(X_train, y_train)"
   ]
  },
  {
   "cell_type": "code",
   "execution_count": 38,
   "metadata": {},
   "outputs": [
    {
     "name": "stdout",
     "output_type": "stream",
     "text": [
      "------------------------------------------------------------------------------------------------------------------------\n",
      "Best parameters found:\n",
      " {'criterion': 'entropy'}\n",
      "------------------------------------------------------------------------------------------------------------------------\n",
      "0.621 (+/-0.007) for {'criterion': 'gini'}\n",
      "0.623 (+/-0.010) for {'criterion': 'entropy'}\n"
     ]
    }
   ],
   "source": [
    "# Best parameter set\n",
    "print('------------------------------------------------------------------------------------------------------------------------')\n",
    "print('Best parameters found:\\n', clf.best_params_)\n",
    "print('------------------------------------------------------------------------------------------------------------------------')\n",
    "\n",
    "# All results\n",
    "means = clf.cv_results_['mean_test_score']\n",
    "stds = clf.cv_results_['std_test_score']\n",
    "for mean, std, params in zip(means, stds, clf.cv_results_['params']):\n",
    "    print(\"%0.3f (+/-%0.03f) for %r\" % (mean, std , params))"
   ]
  },
  {
   "cell_type": "code",
   "execution_count": 47,
   "metadata": {},
   "outputs": [
    {
     "data": {
      "text/plain": [
       "GridSearchCV(estimator=BalancedRandomForestClassifier(),\n",
       "             param_grid={'max_depth': [2, 4, 6, 8, 10, 12, 14, 16, 18, 20,\n",
       "                                       None]},\n",
       "             scoring='f1')"
      ]
     },
     "execution_count": 47,
     "metadata": {},
     "output_type": "execute_result"
    }
   ],
   "source": [
    "parameter_space = {'max_depth': [2,4,6,8,10,12,14,16,18,20,None]}\n",
    "clf = GridSearchCV(BalancedRandomForestClassifier(), parameter_space, scoring = 'f1')\n",
    "clf.fit(X_train, y_train)"
   ]
  },
  {
   "cell_type": "code",
   "execution_count": 48,
   "metadata": {},
   "outputs": [
    {
     "name": "stdout",
     "output_type": "stream",
     "text": [
      "------------------------------------------------------------------------------------------------------------------------\n",
      "Best parameters found:\n",
      " {'max_depth': 4}\n",
      "------------------------------------------------------------------------------------------------------------------------\n",
      "0.645 (+/-0.021) for {'max_depth': 2}\n",
      "0.646 (+/-0.019) for {'max_depth': 4}\n",
      "0.640 (+/-0.012) for {'max_depth': 6}\n",
      "0.635 (+/-0.005) for {'max_depth': 8}\n",
      "0.632 (+/-0.004) for {'max_depth': 10}\n",
      "0.637 (+/-0.005) for {'max_depth': 12}\n",
      "0.628 (+/-0.004) for {'max_depth': 14}\n",
      "0.628 (+/-0.010) for {'max_depth': 16}\n",
      "0.624 (+/-0.004) for {'max_depth': 18}\n",
      "0.623 (+/-0.005) for {'max_depth': 20}\n",
      "0.626 (+/-0.006) for {'max_depth': None}\n"
     ]
    }
   ],
   "source": [
    "# Best parameter set\n",
    "print('------------------------------------------------------------------------------------------------------------------------')\n",
    "print('Best parameters found:\\n', clf.best_params_)\n",
    "print('------------------------------------------------------------------------------------------------------------------------')\n",
    "\n",
    "# All results\n",
    "means = clf.cv_results_['mean_test_score']\n",
    "stds = clf.cv_results_['std_test_score']\n",
    "for mean, std, params in zip(means, stds, clf.cv_results_['params']):\n",
    "    print(\"%0.3f (+/-%0.03f) for %r\" % (mean, std , params))"
   ]
  },
  {
   "cell_type": "code",
   "execution_count": 49,
   "metadata": {},
   "outputs": [
    {
     "data": {
      "text/plain": [
       "GridSearchCV(estimator=BalancedRandomForestClassifier(),\n",
       "             param_grid={'min_samples_leaf': [1, 2, 3, 4, 5],\n",
       "                         'min_samples_split': [2, 3, 4, 5, 6]},\n",
       "             scoring='f1')"
      ]
     },
     "execution_count": 49,
     "metadata": {},
     "output_type": "execute_result"
    }
   ],
   "source": [
    "parameter_space = {'min_samples_split': [2,3,4,5,6],\n",
    "                   'min_samples_leaf': [1,2,3,4,5]}\n",
    "clf = GridSearchCV(BalancedRandomForestClassifier(), parameter_space, scoring = 'f1')\n",
    "clf.fit(X_train, y_train)"
   ]
  },
  {
   "cell_type": "code",
   "execution_count": 50,
   "metadata": {},
   "outputs": [
    {
     "name": "stdout",
     "output_type": "stream",
     "text": [
      "------------------------------------------------------------------------------------------------------------------------\n",
      "Best parameters found:\n",
      " {'min_samples_leaf': 2, 'min_samples_split': 5}\n",
      "------------------------------------------------------------------------------------------------------------------------\n",
      "0.621 (+/-0.011) for {'min_samples_leaf': 1, 'min_samples_split': 2}\n",
      "0.626 (+/-0.009) for {'min_samples_leaf': 1, 'min_samples_split': 3}\n",
      "0.628 (+/-0.008) for {'min_samples_leaf': 1, 'min_samples_split': 4}\n",
      "0.629 (+/-0.006) for {'min_samples_leaf': 1, 'min_samples_split': 5}\n",
      "0.630 (+/-0.008) for {'min_samples_leaf': 1, 'min_samples_split': 6}\n",
      "0.630 (+/-0.006) for {'min_samples_leaf': 2, 'min_samples_split': 2}\n",
      "0.637 (+/-0.006) for {'min_samples_leaf': 2, 'min_samples_split': 3}\n",
      "0.632 (+/-0.009) for {'min_samples_leaf': 2, 'min_samples_split': 4}\n",
      "0.637 (+/-0.006) for {'min_samples_leaf': 2, 'min_samples_split': 5}\n",
      "0.631 (+/-0.004) for {'min_samples_leaf': 2, 'min_samples_split': 6}\n",
      "0.636 (+/-0.003) for {'min_samples_leaf': 3, 'min_samples_split': 2}\n",
      "0.632 (+/-0.006) for {'min_samples_leaf': 3, 'min_samples_split': 3}\n",
      "0.635 (+/-0.006) for {'min_samples_leaf': 3, 'min_samples_split': 4}\n",
      "0.634 (+/-0.003) for {'min_samples_leaf': 3, 'min_samples_split': 5}\n",
      "0.631 (+/-0.007) for {'min_samples_leaf': 3, 'min_samples_split': 6}\n",
      "0.637 (+/-0.006) for {'min_samples_leaf': 4, 'min_samples_split': 2}\n",
      "0.637 (+/-0.005) for {'min_samples_leaf': 4, 'min_samples_split': 3}\n",
      "0.634 (+/-0.005) for {'min_samples_leaf': 4, 'min_samples_split': 4}\n",
      "0.632 (+/-0.004) for {'min_samples_leaf': 4, 'min_samples_split': 5}\n",
      "0.634 (+/-0.007) for {'min_samples_leaf': 4, 'min_samples_split': 6}\n",
      "0.630 (+/-0.008) for {'min_samples_leaf': 5, 'min_samples_split': 2}\n",
      "0.636 (+/-0.007) for {'min_samples_leaf': 5, 'min_samples_split': 3}\n",
      "0.637 (+/-0.005) for {'min_samples_leaf': 5, 'min_samples_split': 4}\n",
      "0.630 (+/-0.008) for {'min_samples_leaf': 5, 'min_samples_split': 5}\n",
      "0.634 (+/-0.008) for {'min_samples_leaf': 5, 'min_samples_split': 6}\n"
     ]
    }
   ],
   "source": [
    "# Best parameter set\n",
    "print('------------------------------------------------------------------------------------------------------------------------')\n",
    "print('Best parameters found:\\n', clf.best_params_)\n",
    "print('------------------------------------------------------------------------------------------------------------------------')\n",
    "\n",
    "# All results\n",
    "means = clf.cv_results_['mean_test_score']\n",
    "stds = clf.cv_results_['std_test_score']\n",
    "for mean, std, params in zip(means, stds, clf.cv_results_['params']):\n",
    "    print(\"%0.3f (+/-%0.03f) for %r\" % (mean, std , params))"
   ]
  },
  {
   "cell_type": "code",
   "execution_count": 51,
   "metadata": {},
   "outputs": [
    {
     "data": {
      "text/plain": [
       "GridSearchCV(estimator=BalancedRandomForestClassifier(),\n",
       "             param_grid={'min_weight_fraction_leaf': [0.0, 0.1, 0.2, 0.3, 0.4,\n",
       "                                                      0.5]},\n",
       "             scoring='f1')"
      ]
     },
     "execution_count": 51,
     "metadata": {},
     "output_type": "execute_result"
    }
   ],
   "source": [
    "parameter_space = {'min_weight_fraction_leaf': [0.0,0.1,0.2,0.3,0.4,0.5]}\n",
    "clf = GridSearchCV(BalancedRandomForestClassifier(), parameter_space, scoring = 'f1')\n",
    "clf.fit(X_train, y_train)"
   ]
  },
  {
   "cell_type": "code",
   "execution_count": 52,
   "metadata": {},
   "outputs": [
    {
     "name": "stdout",
     "output_type": "stream",
     "text": [
      "------------------------------------------------------------------------------------------------------------------------\n",
      "Best parameters found:\n",
      " {'min_weight_fraction_leaf': 0.3}\n",
      "------------------------------------------------------------------------------------------------------------------------\n",
      "0.626 (+/-0.009) for {'min_weight_fraction_leaf': 0.0}\n",
      "0.643 (+/-0.015) for {'min_weight_fraction_leaf': 0.1}\n",
      "0.639 (+/-0.021) for {'min_weight_fraction_leaf': 0.2}\n",
      "0.650 (+/-0.022) for {'min_weight_fraction_leaf': 0.3}\n",
      "0.596 (+/-0.055) for {'min_weight_fraction_leaf': 0.4}\n",
      "0.355 (+/-0.007) for {'min_weight_fraction_leaf': 0.5}\n"
     ]
    }
   ],
   "source": [
    "# Best parameter set\n",
    "print('------------------------------------------------------------------------------------------------------------------------')\n",
    "print('Best parameters found:\\n', clf.best_params_)\n",
    "print('------------------------------------------------------------------------------------------------------------------------')\n",
    "\n",
    "# All results\n",
    "means = clf.cv_results_['mean_test_score']\n",
    "stds = clf.cv_results_['std_test_score']\n",
    "for mean, std, params in zip(means, stds, clf.cv_results_['params']):\n",
    "    print(\"%0.3f (+/-%0.03f) for %r\" % (mean, std , params))"
   ]
  },
  {
   "cell_type": "code",
   "execution_count": 53,
   "metadata": {},
   "outputs": [
    {
     "data": {
      "text/plain": [
       "GridSearchCV(estimator=BalancedRandomForestClassifier(),\n",
       "             param_grid={'max_features': ['auto', 'log2', 0.2, 0.4, 0.6, 0.8]},\n",
       "             scoring='f1')"
      ]
     },
     "execution_count": 53,
     "metadata": {},
     "output_type": "execute_result"
    }
   ],
   "source": [
    "parameter_space = {'max_features': ['auto', 'log2',0.2,0.4,0.6,0.8]}\n",
    "clf = GridSearchCV(BalancedRandomForestClassifier(), parameter_space, scoring = 'f1')\n",
    "clf.fit(X_train, y_train)"
   ]
  },
  {
   "cell_type": "code",
   "execution_count": 54,
   "metadata": {
    "scrolled": true
   },
   "outputs": [
    {
     "name": "stdout",
     "output_type": "stream",
     "text": [
      "------------------------------------------------------------------------------------------------------------------------\n",
      "Best parameters found:\n",
      " {'max_features': 0.2}\n",
      "------------------------------------------------------------------------------------------------------------------------\n",
      "0.626 (+/-0.008) for {'max_features': 'auto'}\n",
      "0.622 (+/-0.007) for {'max_features': 'log2'}\n",
      "0.626 (+/-0.008) for {'max_features': 0.2}\n",
      "0.622 (+/-0.005) for {'max_features': 0.4}\n",
      "0.622 (+/-0.011) for {'max_features': 0.6}\n",
      "0.620 (+/-0.007) for {'max_features': 0.8}\n"
     ]
    }
   ],
   "source": [
    "# Best parameter set\n",
    "print('------------------------------------------------------------------------------------------------------------------------')\n",
    "print('Best parameters found:\\n', clf.best_params_)\n",
    "print('------------------------------------------------------------------------------------------------------------------------')\n",
    "\n",
    "# All results\n",
    "means = clf.cv_results_['mean_test_score']\n",
    "stds = clf.cv_results_['std_test_score']\n",
    "for mean, std, params in zip(means, stds, clf.cv_results_['params']):\n",
    "    print(\"%0.3f (+/-%0.03f) for %r\" % (mean, std , params))"
   ]
  },
  {
   "cell_type": "code",
   "execution_count": 55,
   "metadata": {},
   "outputs": [
    {
     "data": {
      "text/plain": [
       "GridSearchCV(estimator=BalancedRandomForestClassifier(),\n",
       "             param_grid={'max_leaf_nodes': [1000, 800, 600, 400, 200, None]},\n",
       "             scoring='f1')"
      ]
     },
     "execution_count": 55,
     "metadata": {},
     "output_type": "execute_result"
    }
   ],
   "source": [
    "parameter_space = {'max_leaf_nodes': [1000,800,600,400,200,None]}\n",
    "clf = GridSearchCV(BalancedRandomForestClassifier(), parameter_space, scoring = 'f1')\n",
    "clf.fit(X_train, y_train)"
   ]
  },
  {
   "cell_type": "code",
   "execution_count": 56,
   "metadata": {},
   "outputs": [
    {
     "name": "stdout",
     "output_type": "stream",
     "text": [
      "------------------------------------------------------------------------------------------------------------------------\n",
      "Best parameters found:\n",
      " {'max_leaf_nodes': 200}\n",
      "------------------------------------------------------------------------------------------------------------------------\n",
      "0.622 (+/-0.009) for {'max_leaf_nodes': 1000}\n",
      "0.624 (+/-0.008) for {'max_leaf_nodes': 800}\n",
      "0.628 (+/-0.007) for {'max_leaf_nodes': 600}\n",
      "0.624 (+/-0.008) for {'max_leaf_nodes': 400}\n",
      "0.629 (+/-0.004) for {'max_leaf_nodes': 200}\n",
      "0.623 (+/-0.010) for {'max_leaf_nodes': None}\n"
     ]
    }
   ],
   "source": [
    "# Best parameter set\n",
    "print('------------------------------------------------------------------------------------------------------------------------')\n",
    "print('Best parameters found:\\n', clf.best_params_)\n",
    "print('------------------------------------------------------------------------------------------------------------------------')\n",
    "\n",
    "# All results\n",
    "means = clf.cv_results_['mean_test_score']\n",
    "stds = clf.cv_results_['std_test_score']\n",
    "for mean, std, params in zip(means, stds, clf.cv_results_['params']):\n",
    "    print(\"%0.3f (+/-%0.03f) for %r\" % (mean, std , params))"
   ]
  },
  {
   "cell_type": "code",
   "execution_count": 57,
   "metadata": {},
   "outputs": [
    {
     "data": {
      "text/plain": [
       "GridSearchCV(estimator=BalancedRandomForestClassifier(),\n",
       "             param_grid={'sampling_strategy': ['majority', 'not minority',\n",
       "                                               'not majority', 'all', 0.2, 0.3,\n",
       "                                               0.4, 0.5, 0.6, 0.7, 0.8, 0.9,\n",
       "                                               1]},\n",
       "             scoring='f1')"
      ]
     },
     "execution_count": 57,
     "metadata": {},
     "output_type": "execute_result"
    }
   ],
   "source": [
    "parameter_space = {'sampling_strategy': ['majority','not minority','not majority','all',0.2,0.3,0.4,0.5,0.6,0.7,0.8,0.9,1]}\n",
    "clf = GridSearchCV(BalancedRandomForestClassifier(), parameter_space, scoring = 'f1')\n",
    "clf.fit(X_train, y_train)"
   ]
  },
  {
   "cell_type": "code",
   "execution_count": 58,
   "metadata": {},
   "outputs": [
    {
     "name": "stdout",
     "output_type": "stream",
     "text": [
      "------------------------------------------------------------------------------------------------------------------------\n",
      "Best parameters found:\n",
      " {'sampling_strategy': 0.4}\n",
      "------------------------------------------------------------------------------------------------------------------------\n",
      "0.623 (+/-0.012) for {'sampling_strategy': 'majority'}\n",
      "0.619 (+/-0.010) for {'sampling_strategy': 'not minority'}\n",
      "0.632 (+/-0.021) for {'sampling_strategy': 'not majority'}\n",
      "0.624 (+/-0.008) for {'sampling_strategy': 'all'}\n",
      "0.637 (+/-0.021) for {'sampling_strategy': 0.2}\n",
      "0.659 (+/-0.018) for {'sampling_strategy': 0.3}\n",
      "0.662 (+/-0.021) for {'sampling_strategy': 0.4}\n",
      "0.660 (+/-0.018) for {'sampling_strategy': 0.5}\n",
      "0.646 (+/-0.018) for {'sampling_strategy': 0.6}\n",
      "0.643 (+/-0.017) for {'sampling_strategy': 0.7}\n",
      "0.635 (+/-0.014) for {'sampling_strategy': 0.8}\n",
      "0.633 (+/-0.010) for {'sampling_strategy': 0.9}\n",
      "0.621 (+/-0.009) for {'sampling_strategy': 1}\n"
     ]
    }
   ],
   "source": [
    "# Best parameter set\n",
    "print('------------------------------------------------------------------------------------------------------------------------')\n",
    "print('Best parameters found:\\n', clf.best_params_)\n",
    "print('------------------------------------------------------------------------------------------------------------------------')\n",
    "\n",
    "# All results\n",
    "means = clf.cv_results_['mean_test_score']\n",
    "stds = clf.cv_results_['std_test_score']\n",
    "for mean, std, params in zip(means, stds, clf.cv_results_['params']):\n",
    "    print(\"%0.3f (+/-%0.03f) for %r\" % (mean, std , params))"
   ]
  },
  {
   "cell_type": "code",
   "execution_count": 59,
   "metadata": {},
   "outputs": [
    {
     "data": {
      "text/plain": [
       "GridSearchCV(estimator=BalancedRandomForestClassifier(),\n",
       "             param_grid={'n_jobs': [1, -1, None]}, scoring='f1')"
      ]
     },
     "execution_count": 59,
     "metadata": {},
     "output_type": "execute_result"
    }
   ],
   "source": [
    "parameter_space = {'n_jobs': [1,-1,None]}\n",
    "clf = GridSearchCV(BalancedRandomForestClassifier(), parameter_space, scoring = 'f1')\n",
    "clf.fit(X_train, y_train)"
   ]
  },
  {
   "cell_type": "code",
   "execution_count": 60,
   "metadata": {},
   "outputs": [
    {
     "name": "stdout",
     "output_type": "stream",
     "text": [
      "------------------------------------------------------------------------------------------------------------------------\n",
      "Best parameters found:\n",
      " {'n_jobs': None}\n",
      "------------------------------------------------------------------------------------------------------------------------\n",
      "0.623 (+/-0.006) for {'n_jobs': 1}\n",
      "0.621 (+/-0.010) for {'n_jobs': -1}\n",
      "0.623 (+/-0.009) for {'n_jobs': None}\n"
     ]
    }
   ],
   "source": [
    "# Best parameter set\n",
    "print('------------------------------------------------------------------------------------------------------------------------')\n",
    "print('Best parameters found:\\n', clf.best_params_)\n",
    "print('------------------------------------------------------------------------------------------------------------------------')\n",
    "\n",
    "# All results\n",
    "means = clf.cv_results_['mean_test_score']\n",
    "stds = clf.cv_results_['std_test_score']\n",
    "for mean, std, params in zip(means, stds, clf.cv_results_['params']):\n",
    "    print(\"%0.3f (+/-%0.03f) for %r\" % (mean, std , params))"
   ]
  },
  {
   "cell_type": "code",
   "execution_count": 61,
   "metadata": {},
   "outputs": [
    {
     "data": {
      "text/plain": [
       "GridSearchCV(estimator=BalancedRandomForestClassifier(),\n",
       "             param_grid={'warm_start': [True, False]}, scoring='f1')"
      ]
     },
     "execution_count": 61,
     "metadata": {},
     "output_type": "execute_result"
    }
   ],
   "source": [
    "parameter_space = {'warm_start': [True,False]}\n",
    "clf = GridSearchCV(BalancedRandomForestClassifier(), parameter_space, scoring = 'f1')\n",
    "clf.fit(X_train, y_train)"
   ]
  },
  {
   "cell_type": "code",
   "execution_count": 62,
   "metadata": {},
   "outputs": [
    {
     "name": "stdout",
     "output_type": "stream",
     "text": [
      "------------------------------------------------------------------------------------------------------------------------\n",
      "Best parameters found:\n",
      " {'warm_start': False}\n",
      "------------------------------------------------------------------------------------------------------------------------\n",
      "0.620 (+/-0.013) for {'warm_start': True}\n",
      "0.622 (+/-0.009) for {'warm_start': False}\n"
     ]
    }
   ],
   "source": [
    "# Best parameter set\n",
    "print('------------------------------------------------------------------------------------------------------------------------')\n",
    "print('Best parameters found:\\n', clf.best_params_)\n",
    "print('------------------------------------------------------------------------------------------------------------------------')\n",
    "\n",
    "# All results\n",
    "means = clf.cv_results_['mean_test_score']\n",
    "stds = clf.cv_results_['std_test_score']\n",
    "for mean, std, params in zip(means, stds, clf.cv_results_['params']):\n",
    "    print(\"%0.3f (+/-%0.03f) for %r\" % (mean, std , params))"
   ]
  },
  {
   "cell_type": "code",
   "execution_count": 63,
   "metadata": {},
   "outputs": [
    {
     "data": {
      "text/plain": [
       "GridSearchCV(estimator=BalancedRandomForestClassifier(),\n",
       "             param_grid={'random_state': [20, 40, 80, 100, 200, None]},\n",
       "             scoring='f1')"
      ]
     },
     "execution_count": 63,
     "metadata": {},
     "output_type": "execute_result"
    }
   ],
   "source": [
    "parameter_space = {'random_state': [20,40,80,100,200,None]}\n",
    "clf = GridSearchCV(BalancedRandomForestClassifier(), parameter_space, scoring = 'f1')\n",
    "clf.fit(X_train, y_train)"
   ]
  },
  {
   "cell_type": "code",
   "execution_count": 64,
   "metadata": {},
   "outputs": [
    {
     "name": "stdout",
     "output_type": "stream",
     "text": [
      "------------------------------------------------------------------------------------------------------------------------\n",
      "Best parameters found:\n",
      " {'random_state': None}\n",
      "------------------------------------------------------------------------------------------------------------------------\n",
      "0.624 (+/-0.010) for {'random_state': 20}\n",
      "0.619 (+/-0.010) for {'random_state': 40}\n",
      "0.621 (+/-0.012) for {'random_state': 80}\n",
      "0.620 (+/-0.007) for {'random_state': 100}\n",
      "0.620 (+/-0.010) for {'random_state': 200}\n",
      "0.625 (+/-0.008) for {'random_state': None}\n"
     ]
    }
   ],
   "source": [
    "# Best parameter set\n",
    "print('------------------------------------------------------------------------------------------------------------------------')\n",
    "print('Best parameters found:\\n', clf.best_params_)\n",
    "print('------------------------------------------------------------------------------------------------------------------------')\n",
    "\n",
    "# All results\n",
    "means = clf.cv_results_['mean_test_score']\n",
    "stds = clf.cv_results_['std_test_score']\n",
    "for mean, std, params in zip(means, stds, clf.cv_results_['params']):\n",
    "    print(\"%0.3f (+/-%0.03f) for %r\" % (mean, std , params))"
   ]
  },
  {
   "cell_type": "code",
   "execution_count": 65,
   "metadata": {},
   "outputs": [
    {
     "data": {
      "text/plain": [
       "GridSearchCV(estimator=BalancedRandomForestClassifier(),\n",
       "             param_grid={'max_samples': [0.1, 0.2, 0.4, 0.6, 0.8, 1.0, None]},\n",
       "             scoring='f1')"
      ]
     },
     "execution_count": 65,
     "metadata": {},
     "output_type": "execute_result"
    }
   ],
   "source": [
    "parameter_space = {'max_samples': [0.1,0.2,0.4,0.6,0.8,1.0,None]}\n",
    "clf = GridSearchCV(BalancedRandomForestClassifier(), parameter_space, scoring = 'f1')\n",
    "clf.fit(X_train, y_train)"
   ]
  },
  {
   "cell_type": "code",
   "execution_count": 66,
   "metadata": {},
   "outputs": [
    {
     "name": "stdout",
     "output_type": "stream",
     "text": [
      "------------------------------------------------------------------------------------------------------------------------\n",
      "Best parameters found:\n",
      " {'max_samples': 0.1}\n",
      "------------------------------------------------------------------------------------------------------------------------\n",
      "0.635 (+/-0.006) for {'max_samples': 0.1}\n",
      "0.626 (+/-0.012) for {'max_samples': 0.2}\n",
      "0.621 (+/-0.008) for {'max_samples': 0.4}\n",
      "0.624 (+/-0.008) for {'max_samples': 0.6}\n",
      "0.623 (+/-0.007) for {'max_samples': 0.8}\n",
      "nan (+/-nan) for {'max_samples': 1.0}\n",
      "0.624 (+/-0.007) for {'max_samples': None}\n"
     ]
    }
   ],
   "source": [
    "# Best parameter set\n",
    "print('------------------------------------------------------------------------------------------------------------------------')\n",
    "print('Best parameters found:\\n', clf.best_params_)\n",
    "print('------------------------------------------------------------------------------------------------------------------------')\n",
    "\n",
    "# All results\n",
    "means = clf.cv_results_['mean_test_score']\n",
    "stds = clf.cv_results_['std_test_score']\n",
    "for mean, std, params in zip(means, stds, clf.cv_results_['params']):\n",
    "    print(\"%0.3f (+/-%0.03f) for %r\" % (mean, std , params))"
   ]
  },
  {
   "cell_type": "code",
   "execution_count": 97,
   "metadata": {},
   "outputs": [
    {
     "data": {
      "text/plain": [
       "BalancedRandomForestClassifier(criterion='entropy', max_depth=4,\n",
       "                               max_features=0.4, max_leaf_nodes=800,\n",
       "                               max_samples=0.1, min_samples_leaf=2,\n",
       "                               min_samples_split=5,\n",
       "                               min_weight_fraction_leaf=0.1, n_estimators=400,\n",
       "                               n_jobs=-1, sampling_strategy=0.4)"
      ]
     },
     "execution_count": 97,
     "metadata": {},
     "output_type": "execute_result"
    }
   ],
   "source": [
    "model = BalancedRandomForestClassifier(n_estimators = 400,\n",
    "                                       criterion= 'entropy',\n",
    "                                       max_depth= 4,\n",
    "                                       min_samples_leaf= 2, min_samples_split= 5,\n",
    "                                       min_weight_fraction_leaf= 0.1,\n",
    "                                       max_features= 0.4,\n",
    "                                       max_leaf_nodes= 800,\n",
    "                                       sampling_strategy= 0.4,\n",
    "                                       n_jobs= -1,\n",
    "                                       warm_start= False,\n",
    "                                       random_state= None,\n",
    "                                       max_samples= 0.1)\n",
    "\n",
    "#Fit the model to the train data\n",
    "model.fit(X_train, y_train)"
   ]
  },
  {
   "cell_type": "code",
   "execution_count": 98,
   "metadata": {},
   "outputs": [
    {
     "data": {
      "text/plain": [
       "0.6543385490753912"
      ]
     },
     "execution_count": 98,
     "metadata": {},
     "output_type": "execute_result"
    }
   ],
   "source": [
    "y_pred = model.predict(X_test)\n",
    "f1 = f1_score(y_test, y_pred)\n",
    "f1"
   ]
  },
  {
   "cell_type": "markdown",
   "metadata": {},
   "source": [
    "# <a class=\"anchor\" id=\"15th-bullet\">\n",
    "## Basic on the score of modeling We are going to use the features in dfmf  to create our predictive model\n",
    "    \n",
    "</a>"
   ]
  },
  {
   "cell_type": "markdown",
   "metadata": {},
   "source": [
    "# 6. Assessment"
   ]
  },
  {
   "cell_type": "code",
   "execution_count": 99,
   "metadata": {},
   "outputs": [
    {
     "data": {
      "text/plain": [
       "BalancedRandomForestClassifier(criterion='entropy', max_depth=4,\n",
       "                               max_features=0.4, max_leaf_nodes=800,\n",
       "                               max_samples=0.1, min_samples_leaf=2,\n",
       "                               min_samples_split=5,\n",
       "                               min_weight_fraction_leaf=0.1, n_estimators=400,\n",
       "                               n_jobs=-1, sampling_strategy=0.4)"
      ]
     },
     "execution_count": 99,
     "metadata": {},
     "output_type": "execute_result"
    }
   ],
   "source": [
    "# Read the dataset dfm1 and define the independent variables as X \n",
    "# and the dependent variable as y .\n",
    "X_train = dfmf3.drop(columns='Buy')\n",
    "y_train = dfmf3['Buy']\n",
    "\n",
    "# create an instance\n",
    "model = BalancedRandomForestClassifier(n_estimators = 400,\n",
    "                                       criterion= 'entropy',\n",
    "                                       max_depth= 4,\n",
    "                                       min_samples_leaf= 2, min_samples_split= 5,\n",
    "                                       min_weight_fraction_leaf= 0.1,\n",
    "                                       max_features= 0.4,\n",
    "                                       max_leaf_nodes= 800,\n",
    "                                       sampling_strategy= 0.4,\n",
    "                                       n_jobs= -1,\n",
    "                                       warm_start= False,\n",
    "                                       random_state= None,\n",
    "                                       max_samples= 0.1)\n",
    "\n",
    "#Fit the model to the train data\n",
    "model.fit(X_train, y_train)"
   ]
  },
  {
   "cell_type": "code",
   "execution_count": 100,
   "metadata": {},
   "outputs": [
    {
     "data": {
      "text/html": [
       "<div>\n",
       "<style scoped>\n",
       "    .dataframe tbody tr th:only-of-type {\n",
       "        vertical-align: middle;\n",
       "    }\n",
       "\n",
       "    .dataframe tbody tr th {\n",
       "        vertical-align: top;\n",
       "    }\n",
       "\n",
       "    .dataframe thead th {\n",
       "        text-align: right;\n",
       "    }\n",
       "</style>\n",
       "<table border=\"1\" class=\"dataframe\">\n",
       "  <thead>\n",
       "    <tr style=\"text-align: right;\">\n",
       "      <th></th>\n",
       "      <th>AccountMng_Duration</th>\n",
       "      <th>Product_Duration</th>\n",
       "      <th>GoogleAnalytics_ExitRate</th>\n",
       "      <th>GoogleAnalytics_PageValue</th>\n",
       "      <th>x0_Other</th>\n",
       "      <th>x0_Returner</th>\n",
       "      <th>x1_b</th>\n",
       "      <th>x1_c</th>\n",
       "      <th>x1_d</th>\n",
       "      <th>x1_e</th>\n",
       "      <th>...</th>\n",
       "      <th>x1_o</th>\n",
       "      <th>x2_December</th>\n",
       "      <th>x2_February</th>\n",
       "      <th>x2_July</th>\n",
       "      <th>x2_June</th>\n",
       "      <th>x2_March</th>\n",
       "      <th>x2_May</th>\n",
       "      <th>x2_November</th>\n",
       "      <th>x2_October</th>\n",
       "      <th>x2_September</th>\n",
       "    </tr>\n",
       "    <tr>\n",
       "      <th>Access_ID</th>\n",
       "      <th></th>\n",
       "      <th></th>\n",
       "      <th></th>\n",
       "      <th></th>\n",
       "      <th></th>\n",
       "      <th></th>\n",
       "      <th></th>\n",
       "      <th></th>\n",
       "      <th></th>\n",
       "      <th></th>\n",
       "      <th></th>\n",
       "      <th></th>\n",
       "      <th></th>\n",
       "      <th></th>\n",
       "      <th></th>\n",
       "      <th></th>\n",
       "      <th></th>\n",
       "      <th></th>\n",
       "      <th></th>\n",
       "      <th></th>\n",
       "      <th></th>\n",
       "    </tr>\n",
       "  </thead>\n",
       "  <tbody>\n",
       "    <tr>\n",
       "      <th>798519314</th>\n",
       "      <td>-0.485250</td>\n",
       "      <td>2.443964</td>\n",
       "      <td>0.480455</td>\n",
       "      <td>-0.314350</td>\n",
       "      <td>0.0</td>\n",
       "      <td>1.0</td>\n",
       "      <td>0.0</td>\n",
       "      <td>0.0</td>\n",
       "      <td>0.0</td>\n",
       "      <td>0.0</td>\n",
       "      <td>...</td>\n",
       "      <td>0.0</td>\n",
       "      <td>0.0</td>\n",
       "      <td>0.0</td>\n",
       "      <td>0.0</td>\n",
       "      <td>0.0</td>\n",
       "      <td>0.0</td>\n",
       "      <td>0.0</td>\n",
       "      <td>0.0</td>\n",
       "      <td>0.0</td>\n",
       "      <td>0.0</td>\n",
       "    </tr>\n",
       "    <tr>\n",
       "      <th>798663101</th>\n",
       "      <td>-0.257165</td>\n",
       "      <td>0.145935</td>\n",
       "      <td>-0.773534</td>\n",
       "      <td>-0.314350</td>\n",
       "      <td>0.0</td>\n",
       "      <td>1.0</td>\n",
       "      <td>0.0</td>\n",
       "      <td>0.0</td>\n",
       "      <td>1.0</td>\n",
       "      <td>0.0</td>\n",
       "      <td>...</td>\n",
       "      <td>0.0</td>\n",
       "      <td>0.0</td>\n",
       "      <td>0.0</td>\n",
       "      <td>0.0</td>\n",
       "      <td>0.0</td>\n",
       "      <td>0.0</td>\n",
       "      <td>1.0</td>\n",
       "      <td>0.0</td>\n",
       "      <td>0.0</td>\n",
       "      <td>0.0</td>\n",
       "    </tr>\n",
       "    <tr>\n",
       "      <th>798663221</th>\n",
       "      <td>-0.485250</td>\n",
       "      <td>-0.225298</td>\n",
       "      <td>-0.369564</td>\n",
       "      <td>-0.314350</td>\n",
       "      <td>0.0</td>\n",
       "      <td>1.0</td>\n",
       "      <td>0.0</td>\n",
       "      <td>1.0</td>\n",
       "      <td>0.0</td>\n",
       "      <td>0.0</td>\n",
       "      <td>...</td>\n",
       "      <td>0.0</td>\n",
       "      <td>0.0</td>\n",
       "      <td>0.0</td>\n",
       "      <td>0.0</td>\n",
       "      <td>0.0</td>\n",
       "      <td>0.0</td>\n",
       "      <td>0.0</td>\n",
       "      <td>1.0</td>\n",
       "      <td>0.0</td>\n",
       "      <td>0.0</td>\n",
       "    </tr>\n",
       "    <tr>\n",
       "      <th>798760918</th>\n",
       "      <td>-0.485250</td>\n",
       "      <td>-0.283747</td>\n",
       "      <td>1.208442</td>\n",
       "      <td>-0.314350</td>\n",
       "      <td>0.0</td>\n",
       "      <td>0.0</td>\n",
       "      <td>1.0</td>\n",
       "      <td>0.0</td>\n",
       "      <td>0.0</td>\n",
       "      <td>0.0</td>\n",
       "      <td>...</td>\n",
       "      <td>0.0</td>\n",
       "      <td>0.0</td>\n",
       "      <td>0.0</td>\n",
       "      <td>0.0</td>\n",
       "      <td>0.0</td>\n",
       "      <td>0.0</td>\n",
       "      <td>1.0</td>\n",
       "      <td>0.0</td>\n",
       "      <td>0.0</td>\n",
       "      <td>0.0</td>\n",
       "    </tr>\n",
       "    <tr>\n",
       "      <th>798856982</th>\n",
       "      <td>0.884785</td>\n",
       "      <td>1.289387</td>\n",
       "      <td>-0.506325</td>\n",
       "      <td>-0.256115</td>\n",
       "      <td>0.0</td>\n",
       "      <td>1.0</td>\n",
       "      <td>0.0</td>\n",
       "      <td>0.0</td>\n",
       "      <td>0.0</td>\n",
       "      <td>0.0</td>\n",
       "      <td>...</td>\n",
       "      <td>0.0</td>\n",
       "      <td>0.0</td>\n",
       "      <td>0.0</td>\n",
       "      <td>0.0</td>\n",
       "      <td>0.0</td>\n",
       "      <td>0.0</td>\n",
       "      <td>0.0</td>\n",
       "      <td>1.0</td>\n",
       "      <td>0.0</td>\n",
       "      <td>0.0</td>\n",
       "    </tr>\n",
       "    <tr>\n",
       "      <th>...</th>\n",
       "      <td>...</td>\n",
       "      <td>...</td>\n",
       "      <td>...</td>\n",
       "      <td>...</td>\n",
       "      <td>...</td>\n",
       "      <td>...</td>\n",
       "      <td>...</td>\n",
       "      <td>...</td>\n",
       "      <td>...</td>\n",
       "      <td>...</td>\n",
       "      <td>...</td>\n",
       "      <td>...</td>\n",
       "      <td>...</td>\n",
       "      <td>...</td>\n",
       "      <td>...</td>\n",
       "      <td>...</td>\n",
       "      <td>...</td>\n",
       "      <td>...</td>\n",
       "      <td>...</td>\n",
       "      <td>...</td>\n",
       "      <td>...</td>\n",
       "    </tr>\n",
       "    <tr>\n",
       "      <th>962042726</th>\n",
       "      <td>3.897037</td>\n",
       "      <td>5.526624</td>\n",
       "      <td>-0.430581</td>\n",
       "      <td>-0.314350</td>\n",
       "      <td>0.0</td>\n",
       "      <td>1.0</td>\n",
       "      <td>0.0</td>\n",
       "      <td>0.0</td>\n",
       "      <td>0.0</td>\n",
       "      <td>0.0</td>\n",
       "      <td>...</td>\n",
       "      <td>0.0</td>\n",
       "      <td>0.0</td>\n",
       "      <td>0.0</td>\n",
       "      <td>0.0</td>\n",
       "      <td>0.0</td>\n",
       "      <td>0.0</td>\n",
       "      <td>0.0</td>\n",
       "      <td>1.0</td>\n",
       "      <td>0.0</td>\n",
       "      <td>0.0</td>\n",
       "    </tr>\n",
       "    <tr>\n",
       "      <th>962063064</th>\n",
       "      <td>-0.485250</td>\n",
       "      <td>-0.656171</td>\n",
       "      <td>1.208442</td>\n",
       "      <td>-0.314350</td>\n",
       "      <td>0.0</td>\n",
       "      <td>1.0</td>\n",
       "      <td>0.0</td>\n",
       "      <td>1.0</td>\n",
       "      <td>0.0</td>\n",
       "      <td>0.0</td>\n",
       "      <td>...</td>\n",
       "      <td>0.0</td>\n",
       "      <td>0.0</td>\n",
       "      <td>0.0</td>\n",
       "      <td>0.0</td>\n",
       "      <td>0.0</td>\n",
       "      <td>1.0</td>\n",
       "      <td>0.0</td>\n",
       "      <td>0.0</td>\n",
       "      <td>0.0</td>\n",
       "      <td>0.0</td>\n",
       "    </tr>\n",
       "    <tr>\n",
       "      <th>962147749</th>\n",
       "      <td>-0.208506</td>\n",
       "      <td>-0.374209</td>\n",
       "      <td>-0.369564</td>\n",
       "      <td>0.228477</td>\n",
       "      <td>0.0</td>\n",
       "      <td>1.0</td>\n",
       "      <td>0.0</td>\n",
       "      <td>0.0</td>\n",
       "      <td>0.0</td>\n",
       "      <td>0.0</td>\n",
       "      <td>...</td>\n",
       "      <td>0.0</td>\n",
       "      <td>0.0</td>\n",
       "      <td>0.0</td>\n",
       "      <td>0.0</td>\n",
       "      <td>0.0</td>\n",
       "      <td>0.0</td>\n",
       "      <td>0.0</td>\n",
       "      <td>1.0</td>\n",
       "      <td>0.0</td>\n",
       "      <td>0.0</td>\n",
       "    </tr>\n",
       "    <tr>\n",
       "      <th>962182167</th>\n",
       "      <td>0.528667</td>\n",
       "      <td>-0.587619</td>\n",
       "      <td>0.156438</td>\n",
       "      <td>-0.314350</td>\n",
       "      <td>0.0</td>\n",
       "      <td>1.0</td>\n",
       "      <td>0.0</td>\n",
       "      <td>1.0</td>\n",
       "      <td>0.0</td>\n",
       "      <td>0.0</td>\n",
       "      <td>...</td>\n",
       "      <td>0.0</td>\n",
       "      <td>0.0</td>\n",
       "      <td>0.0</td>\n",
       "      <td>0.0</td>\n",
       "      <td>0.0</td>\n",
       "      <td>0.0</td>\n",
       "      <td>0.0</td>\n",
       "      <td>1.0</td>\n",
       "      <td>0.0</td>\n",
       "      <td>0.0</td>\n",
       "    </tr>\n",
       "    <tr>\n",
       "      <th>962218682</th>\n",
       "      <td>0.165554</td>\n",
       "      <td>-0.195242</td>\n",
       "      <td>-0.123395</td>\n",
       "      <td>-0.314350</td>\n",
       "      <td>0.0</td>\n",
       "      <td>1.0</td>\n",
       "      <td>0.0</td>\n",
       "      <td>0.0</td>\n",
       "      <td>0.0</td>\n",
       "      <td>0.0</td>\n",
       "      <td>...</td>\n",
       "      <td>0.0</td>\n",
       "      <td>0.0</td>\n",
       "      <td>0.0</td>\n",
       "      <td>0.0</td>\n",
       "      <td>0.0</td>\n",
       "      <td>0.0</td>\n",
       "      <td>1.0</td>\n",
       "      <td>0.0</td>\n",
       "      <td>0.0</td>\n",
       "      <td>0.0</td>\n",
       "    </tr>\n",
       "  </tbody>\n",
       "</table>\n",
       "<p>2300 rows × 29 columns</p>\n",
       "</div>"
      ],
      "text/plain": [
       "           AccountMng_Duration  Product_Duration  GoogleAnalytics_ExitRate  \\\n",
       "Access_ID                                                                    \n",
       "798519314            -0.485250          2.443964                  0.480455   \n",
       "798663101            -0.257165          0.145935                 -0.773534   \n",
       "798663221            -0.485250         -0.225298                 -0.369564   \n",
       "798760918            -0.485250         -0.283747                  1.208442   \n",
       "798856982             0.884785          1.289387                 -0.506325   \n",
       "...                        ...               ...                       ...   \n",
       "962042726             3.897037          5.526624                 -0.430581   \n",
       "962063064            -0.485250         -0.656171                  1.208442   \n",
       "962147749            -0.208506         -0.374209                 -0.369564   \n",
       "962182167             0.528667         -0.587619                  0.156438   \n",
       "962218682             0.165554         -0.195242                 -0.123395   \n",
       "\n",
       "           GoogleAnalytics_PageValue  x0_Other  x0_Returner  x1_b  x1_c  x1_d  \\\n",
       "Access_ID                                                                       \n",
       "798519314                  -0.314350       0.0          1.0   0.0   0.0   0.0   \n",
       "798663101                  -0.314350       0.0          1.0   0.0   0.0   1.0   \n",
       "798663221                  -0.314350       0.0          1.0   0.0   1.0   0.0   \n",
       "798760918                  -0.314350       0.0          0.0   1.0   0.0   0.0   \n",
       "798856982                  -0.256115       0.0          1.0   0.0   0.0   0.0   \n",
       "...                              ...       ...          ...   ...   ...   ...   \n",
       "962042726                  -0.314350       0.0          1.0   0.0   0.0   0.0   \n",
       "962063064                  -0.314350       0.0          1.0   0.0   1.0   0.0   \n",
       "962147749                   0.228477       0.0          1.0   0.0   0.0   0.0   \n",
       "962182167                  -0.314350       0.0          1.0   0.0   1.0   0.0   \n",
       "962218682                  -0.314350       0.0          1.0   0.0   0.0   0.0   \n",
       "\n",
       "           x1_e  ...  x1_o  x2_December  x2_February  x2_July  x2_June  \\\n",
       "Access_ID        ...                                                     \n",
       "798519314   0.0  ...   0.0          0.0          0.0      0.0      0.0   \n",
       "798663101   0.0  ...   0.0          0.0          0.0      0.0      0.0   \n",
       "798663221   0.0  ...   0.0          0.0          0.0      0.0      0.0   \n",
       "798760918   0.0  ...   0.0          0.0          0.0      0.0      0.0   \n",
       "798856982   0.0  ...   0.0          0.0          0.0      0.0      0.0   \n",
       "...         ...  ...   ...          ...          ...      ...      ...   \n",
       "962042726   0.0  ...   0.0          0.0          0.0      0.0      0.0   \n",
       "962063064   0.0  ...   0.0          0.0          0.0      0.0      0.0   \n",
       "962147749   0.0  ...   0.0          0.0          0.0      0.0      0.0   \n",
       "962182167   0.0  ...   0.0          0.0          0.0      0.0      0.0   \n",
       "962218682   0.0  ...   0.0          0.0          0.0      0.0      0.0   \n",
       "\n",
       "           x2_March  x2_May  x2_November  x2_October  x2_September  \n",
       "Access_ID                                                           \n",
       "798519314       0.0     0.0          0.0         0.0           0.0  \n",
       "798663101       0.0     1.0          0.0         0.0           0.0  \n",
       "798663221       0.0     0.0          1.0         0.0           0.0  \n",
       "798760918       0.0     1.0          0.0         0.0           0.0  \n",
       "798856982       0.0     0.0          1.0         0.0           0.0  \n",
       "...             ...     ...          ...         ...           ...  \n",
       "962042726       0.0     0.0          1.0         0.0           0.0  \n",
       "962063064       1.0     0.0          0.0         0.0           0.0  \n",
       "962147749       0.0     0.0          1.0         0.0           0.0  \n",
       "962182167       0.0     0.0          1.0         0.0           0.0  \n",
       "962218682       0.0     1.0          0.0         0.0           0.0  \n",
       "\n",
       "[2300 rows x 29 columns]"
      ]
     },
     "execution_count": 100,
     "metadata": {},
     "output_type": "execute_result"
    }
   ],
   "source": [
    "#import the data from test to test our model\n",
    "df_test = pd.read_csv(\"test.csv\")\n",
    "\n",
    "#modifying the test data\n",
    "#change the date to panda datetime\n",
    "df_test[\"Date\"]= pd.to_datetime(df_test[\"Date\"])\n",
    "\n",
    "#set the index\n",
    "df_test.set_index(\"Access_ID\",inplace=True)\n",
    "\n",
    "#creat Month column and drop the Date Column\n",
    "df_test[\"Month\"] = df_test[\"Date\"].dt.month_name().drop(columns=\"Date\")\n",
    "\n",
    "#select the features\n",
    "df_test = df_test[['AccountMng_Duration','Product_Duration','GoogleAnalytics_ExitRate',\\\n",
    "            'GoogleAnalytics_PageValue' ,'Type_of_Visitor','Type_of_Traffic','Month']]\n",
    "df_test['Type_of_Traffic'] = df_test['Type_of_Traffic'].replace([1,2,3,4,5,6,7,8,9,10,11,12,13,14,15], ['a','b','c','d','e','f','g','h','i','j','k','l','m','n','o'])\n",
    "df_test_num = df_test.select_dtypes(exclude='object').set_index(df_test.index)\n",
    "scaler = StandardScaler().fit(df_test_num)\n",
    "df_test_num_scaled = scaler.transform(df_test_num) # this will return an array\n",
    "# Convert the array to a pandas dataframe\n",
    "df_test_num_scaled = pd.DataFrame(df_test_num_scaled, columns = df_test_num.columns).set_index(df_test.index)\n",
    "df_test = df_test_num_scaled.join(df_test.select_dtypes(include='object').set_index(df_test.index))\n",
    "\n",
    "#Define metric and non-metric features. \n",
    "categorical = df_test.select_dtypes(include=\"object\").columns.to_list()\n",
    "numerical = df_test.columns.drop(categorical).to_list()\n",
    "\n",
    "# Use OneHotEncoder to encode the categorical features. Get feature names and create a DataFrame \n",
    "# with the one-hot encoded categorical features (pass feature names)\n",
    "ohc = OneHotEncoder(sparse=False, drop=\"first\")\n",
    "ohc_feat = ohc.fit_transform(df_test[categorical])\n",
    "ohc_feat_names = ohc.get_feature_names()\n",
    "ohc_df = pd.DataFrame(ohc_feat, index=df_test.index, columns=ohc_feat_names)  # Why the index=df_ohc.index?\n",
    "# Reassigning df to contain ohc variables\n",
    "df_test = pd.concat([df_test.drop(columns=categorical), ohc_df], axis=1)\n",
    "df_test"
   ]
  },
  {
   "cell_type": "code",
   "execution_count": 101,
   "metadata": {},
   "outputs": [
    {
     "data": {
      "text/html": [
       "<div>\n",
       "<style scoped>\n",
       "    .dataframe tbody tr th:only-of-type {\n",
       "        vertical-align: middle;\n",
       "    }\n",
       "\n",
       "    .dataframe tbody tr th {\n",
       "        vertical-align: top;\n",
       "    }\n",
       "\n",
       "    .dataframe thead th {\n",
       "        text-align: right;\n",
       "    }\n",
       "</style>\n",
       "<table border=\"1\" class=\"dataframe\">\n",
       "  <thead>\n",
       "    <tr style=\"text-align: right;\">\n",
       "      <th></th>\n",
       "      <th>Buy</th>\n",
       "    </tr>\n",
       "  </thead>\n",
       "  <tbody>\n",
       "    <tr>\n",
       "      <th>0</th>\n",
       "      <td>False</td>\n",
       "    </tr>\n",
       "    <tr>\n",
       "      <th>1</th>\n",
       "      <td>False</td>\n",
       "    </tr>\n",
       "    <tr>\n",
       "      <th>2</th>\n",
       "      <td>False</td>\n",
       "    </tr>\n",
       "    <tr>\n",
       "      <th>3</th>\n",
       "      <td>False</td>\n",
       "    </tr>\n",
       "    <tr>\n",
       "      <th>4</th>\n",
       "      <td>True</td>\n",
       "    </tr>\n",
       "    <tr>\n",
       "      <th>...</th>\n",
       "      <td>...</td>\n",
       "    </tr>\n",
       "    <tr>\n",
       "      <th>2295</th>\n",
       "      <td>False</td>\n",
       "    </tr>\n",
       "    <tr>\n",
       "      <th>2296</th>\n",
       "      <td>False</td>\n",
       "    </tr>\n",
       "    <tr>\n",
       "      <th>2297</th>\n",
       "      <td>True</td>\n",
       "    </tr>\n",
       "    <tr>\n",
       "      <th>2298</th>\n",
       "      <td>False</td>\n",
       "    </tr>\n",
       "    <tr>\n",
       "      <th>2299</th>\n",
       "      <td>False</td>\n",
       "    </tr>\n",
       "  </tbody>\n",
       "</table>\n",
       "<p>2300 rows × 1 columns</p>\n",
       "</div>"
      ],
      "text/plain": [
       "        Buy\n",
       "0     False\n",
       "1     False\n",
       "2     False\n",
       "3     False\n",
       "4      True\n",
       "...     ...\n",
       "2295  False\n",
       "2296  False\n",
       "2297   True\n",
       "2298  False\n",
       "2299  False\n",
       "\n",
       "[2300 rows x 1 columns]"
      ]
     },
     "execution_count": 101,
     "metadata": {},
     "output_type": "execute_result"
    }
   ],
   "source": [
    "# predict our test data and show\n",
    "y_pred = model.predict(df_test)\n",
    "y_pred=pd.DataFrame(y_pred)\n",
    "y_pred.rename(columns={0: 'Buy'}, inplace=True)\n",
    "y_pred"
   ]
  },
  {
   "cell_type": "code",
   "execution_count": 102,
   "metadata": {
    "scrolled": false
   },
   "outputs": [
    {
     "data": {
      "text/html": [
       "<div>\n",
       "<style scoped>\n",
       "    .dataframe tbody tr th:only-of-type {\n",
       "        vertical-align: middle;\n",
       "    }\n",
       "\n",
       "    .dataframe tbody tr th {\n",
       "        vertical-align: top;\n",
       "    }\n",
       "\n",
       "    .dataframe thead th {\n",
       "        text-align: right;\n",
       "    }\n",
       "</style>\n",
       "<table border=\"1\" class=\"dataframe\">\n",
       "  <thead>\n",
       "    <tr style=\"text-align: right;\">\n",
       "      <th></th>\n",
       "      <th>Access_ID</th>\n",
       "      <th>AccountMng_Duration</th>\n",
       "      <th>Product_Duration</th>\n",
       "      <th>GoogleAnalytics_ExitRate</th>\n",
       "      <th>GoogleAnalytics_PageValue</th>\n",
       "      <th>x0_Other</th>\n",
       "      <th>x0_Returner</th>\n",
       "      <th>x1_b</th>\n",
       "      <th>x1_c</th>\n",
       "      <th>x1_d</th>\n",
       "      <th>...</th>\n",
       "      <th>x2_December</th>\n",
       "      <th>x2_February</th>\n",
       "      <th>x2_July</th>\n",
       "      <th>x2_June</th>\n",
       "      <th>x2_March</th>\n",
       "      <th>x2_May</th>\n",
       "      <th>x2_November</th>\n",
       "      <th>x2_October</th>\n",
       "      <th>x2_September</th>\n",
       "      <th>Buy</th>\n",
       "    </tr>\n",
       "  </thead>\n",
       "  <tbody>\n",
       "    <tr>\n",
       "      <th>0</th>\n",
       "      <td>798519314</td>\n",
       "      <td>-0.485250</td>\n",
       "      <td>2.443964</td>\n",
       "      <td>0.480455</td>\n",
       "      <td>-0.314350</td>\n",
       "      <td>0.0</td>\n",
       "      <td>1.0</td>\n",
       "      <td>0.0</td>\n",
       "      <td>0.0</td>\n",
       "      <td>0.0</td>\n",
       "      <td>...</td>\n",
       "      <td>0.0</td>\n",
       "      <td>0.0</td>\n",
       "      <td>0.0</td>\n",
       "      <td>0.0</td>\n",
       "      <td>0.0</td>\n",
       "      <td>0.0</td>\n",
       "      <td>0.0</td>\n",
       "      <td>0.0</td>\n",
       "      <td>0.0</td>\n",
       "      <td>False</td>\n",
       "    </tr>\n",
       "    <tr>\n",
       "      <th>1</th>\n",
       "      <td>798663101</td>\n",
       "      <td>-0.257165</td>\n",
       "      <td>0.145935</td>\n",
       "      <td>-0.773534</td>\n",
       "      <td>-0.314350</td>\n",
       "      <td>0.0</td>\n",
       "      <td>1.0</td>\n",
       "      <td>0.0</td>\n",
       "      <td>0.0</td>\n",
       "      <td>1.0</td>\n",
       "      <td>...</td>\n",
       "      <td>0.0</td>\n",
       "      <td>0.0</td>\n",
       "      <td>0.0</td>\n",
       "      <td>0.0</td>\n",
       "      <td>0.0</td>\n",
       "      <td>1.0</td>\n",
       "      <td>0.0</td>\n",
       "      <td>0.0</td>\n",
       "      <td>0.0</td>\n",
       "      <td>False</td>\n",
       "    </tr>\n",
       "    <tr>\n",
       "      <th>2</th>\n",
       "      <td>798663221</td>\n",
       "      <td>-0.485250</td>\n",
       "      <td>-0.225298</td>\n",
       "      <td>-0.369564</td>\n",
       "      <td>-0.314350</td>\n",
       "      <td>0.0</td>\n",
       "      <td>1.0</td>\n",
       "      <td>0.0</td>\n",
       "      <td>1.0</td>\n",
       "      <td>0.0</td>\n",
       "      <td>...</td>\n",
       "      <td>0.0</td>\n",
       "      <td>0.0</td>\n",
       "      <td>0.0</td>\n",
       "      <td>0.0</td>\n",
       "      <td>0.0</td>\n",
       "      <td>0.0</td>\n",
       "      <td>1.0</td>\n",
       "      <td>0.0</td>\n",
       "      <td>0.0</td>\n",
       "      <td>False</td>\n",
       "    </tr>\n",
       "    <tr>\n",
       "      <th>3</th>\n",
       "      <td>798760918</td>\n",
       "      <td>-0.485250</td>\n",
       "      <td>-0.283747</td>\n",
       "      <td>1.208442</td>\n",
       "      <td>-0.314350</td>\n",
       "      <td>0.0</td>\n",
       "      <td>0.0</td>\n",
       "      <td>1.0</td>\n",
       "      <td>0.0</td>\n",
       "      <td>0.0</td>\n",
       "      <td>...</td>\n",
       "      <td>0.0</td>\n",
       "      <td>0.0</td>\n",
       "      <td>0.0</td>\n",
       "      <td>0.0</td>\n",
       "      <td>0.0</td>\n",
       "      <td>1.0</td>\n",
       "      <td>0.0</td>\n",
       "      <td>0.0</td>\n",
       "      <td>0.0</td>\n",
       "      <td>False</td>\n",
       "    </tr>\n",
       "    <tr>\n",
       "      <th>4</th>\n",
       "      <td>798856982</td>\n",
       "      <td>0.884785</td>\n",
       "      <td>1.289387</td>\n",
       "      <td>-0.506325</td>\n",
       "      <td>-0.256115</td>\n",
       "      <td>0.0</td>\n",
       "      <td>1.0</td>\n",
       "      <td>0.0</td>\n",
       "      <td>0.0</td>\n",
       "      <td>0.0</td>\n",
       "      <td>...</td>\n",
       "      <td>0.0</td>\n",
       "      <td>0.0</td>\n",
       "      <td>0.0</td>\n",
       "      <td>0.0</td>\n",
       "      <td>0.0</td>\n",
       "      <td>0.0</td>\n",
       "      <td>1.0</td>\n",
       "      <td>0.0</td>\n",
       "      <td>0.0</td>\n",
       "      <td>True</td>\n",
       "    </tr>\n",
       "    <tr>\n",
       "      <th>...</th>\n",
       "      <td>...</td>\n",
       "      <td>...</td>\n",
       "      <td>...</td>\n",
       "      <td>...</td>\n",
       "      <td>...</td>\n",
       "      <td>...</td>\n",
       "      <td>...</td>\n",
       "      <td>...</td>\n",
       "      <td>...</td>\n",
       "      <td>...</td>\n",
       "      <td>...</td>\n",
       "      <td>...</td>\n",
       "      <td>...</td>\n",
       "      <td>...</td>\n",
       "      <td>...</td>\n",
       "      <td>...</td>\n",
       "      <td>...</td>\n",
       "      <td>...</td>\n",
       "      <td>...</td>\n",
       "      <td>...</td>\n",
       "      <td>...</td>\n",
       "    </tr>\n",
       "    <tr>\n",
       "      <th>2295</th>\n",
       "      <td>962042726</td>\n",
       "      <td>3.897037</td>\n",
       "      <td>5.526624</td>\n",
       "      <td>-0.430581</td>\n",
       "      <td>-0.314350</td>\n",
       "      <td>0.0</td>\n",
       "      <td>1.0</td>\n",
       "      <td>0.0</td>\n",
       "      <td>0.0</td>\n",
       "      <td>0.0</td>\n",
       "      <td>...</td>\n",
       "      <td>0.0</td>\n",
       "      <td>0.0</td>\n",
       "      <td>0.0</td>\n",
       "      <td>0.0</td>\n",
       "      <td>0.0</td>\n",
       "      <td>0.0</td>\n",
       "      <td>1.0</td>\n",
       "      <td>0.0</td>\n",
       "      <td>0.0</td>\n",
       "      <td>False</td>\n",
       "    </tr>\n",
       "    <tr>\n",
       "      <th>2296</th>\n",
       "      <td>962063064</td>\n",
       "      <td>-0.485250</td>\n",
       "      <td>-0.656171</td>\n",
       "      <td>1.208442</td>\n",
       "      <td>-0.314350</td>\n",
       "      <td>0.0</td>\n",
       "      <td>1.0</td>\n",
       "      <td>0.0</td>\n",
       "      <td>1.0</td>\n",
       "      <td>0.0</td>\n",
       "      <td>...</td>\n",
       "      <td>0.0</td>\n",
       "      <td>0.0</td>\n",
       "      <td>0.0</td>\n",
       "      <td>0.0</td>\n",
       "      <td>1.0</td>\n",
       "      <td>0.0</td>\n",
       "      <td>0.0</td>\n",
       "      <td>0.0</td>\n",
       "      <td>0.0</td>\n",
       "      <td>False</td>\n",
       "    </tr>\n",
       "    <tr>\n",
       "      <th>2297</th>\n",
       "      <td>962147749</td>\n",
       "      <td>-0.208506</td>\n",
       "      <td>-0.374209</td>\n",
       "      <td>-0.369564</td>\n",
       "      <td>0.228477</td>\n",
       "      <td>0.0</td>\n",
       "      <td>1.0</td>\n",
       "      <td>0.0</td>\n",
       "      <td>0.0</td>\n",
       "      <td>0.0</td>\n",
       "      <td>...</td>\n",
       "      <td>0.0</td>\n",
       "      <td>0.0</td>\n",
       "      <td>0.0</td>\n",
       "      <td>0.0</td>\n",
       "      <td>0.0</td>\n",
       "      <td>0.0</td>\n",
       "      <td>1.0</td>\n",
       "      <td>0.0</td>\n",
       "      <td>0.0</td>\n",
       "      <td>True</td>\n",
       "    </tr>\n",
       "    <tr>\n",
       "      <th>2298</th>\n",
       "      <td>962182167</td>\n",
       "      <td>0.528667</td>\n",
       "      <td>-0.587619</td>\n",
       "      <td>0.156438</td>\n",
       "      <td>-0.314350</td>\n",
       "      <td>0.0</td>\n",
       "      <td>1.0</td>\n",
       "      <td>0.0</td>\n",
       "      <td>1.0</td>\n",
       "      <td>0.0</td>\n",
       "      <td>...</td>\n",
       "      <td>0.0</td>\n",
       "      <td>0.0</td>\n",
       "      <td>0.0</td>\n",
       "      <td>0.0</td>\n",
       "      <td>0.0</td>\n",
       "      <td>0.0</td>\n",
       "      <td>1.0</td>\n",
       "      <td>0.0</td>\n",
       "      <td>0.0</td>\n",
       "      <td>False</td>\n",
       "    </tr>\n",
       "    <tr>\n",
       "      <th>2299</th>\n",
       "      <td>962218682</td>\n",
       "      <td>0.165554</td>\n",
       "      <td>-0.195242</td>\n",
       "      <td>-0.123395</td>\n",
       "      <td>-0.314350</td>\n",
       "      <td>0.0</td>\n",
       "      <td>1.0</td>\n",
       "      <td>0.0</td>\n",
       "      <td>0.0</td>\n",
       "      <td>0.0</td>\n",
       "      <td>...</td>\n",
       "      <td>0.0</td>\n",
       "      <td>0.0</td>\n",
       "      <td>0.0</td>\n",
       "      <td>0.0</td>\n",
       "      <td>0.0</td>\n",
       "      <td>1.0</td>\n",
       "      <td>0.0</td>\n",
       "      <td>0.0</td>\n",
       "      <td>0.0</td>\n",
       "      <td>False</td>\n",
       "    </tr>\n",
       "  </tbody>\n",
       "</table>\n",
       "<p>2300 rows × 31 columns</p>\n",
       "</div>"
      ],
      "text/plain": [
       "      Access_ID  AccountMng_Duration  Product_Duration  \\\n",
       "0     798519314            -0.485250          2.443964   \n",
       "1     798663101            -0.257165          0.145935   \n",
       "2     798663221            -0.485250         -0.225298   \n",
       "3     798760918            -0.485250         -0.283747   \n",
       "4     798856982             0.884785          1.289387   \n",
       "...         ...                  ...               ...   \n",
       "2295  962042726             3.897037          5.526624   \n",
       "2296  962063064            -0.485250         -0.656171   \n",
       "2297  962147749            -0.208506         -0.374209   \n",
       "2298  962182167             0.528667         -0.587619   \n",
       "2299  962218682             0.165554         -0.195242   \n",
       "\n",
       "      GoogleAnalytics_ExitRate  GoogleAnalytics_PageValue  x0_Other  \\\n",
       "0                     0.480455                  -0.314350       0.0   \n",
       "1                    -0.773534                  -0.314350       0.0   \n",
       "2                    -0.369564                  -0.314350       0.0   \n",
       "3                     1.208442                  -0.314350       0.0   \n",
       "4                    -0.506325                  -0.256115       0.0   \n",
       "...                        ...                        ...       ...   \n",
       "2295                 -0.430581                  -0.314350       0.0   \n",
       "2296                  1.208442                  -0.314350       0.0   \n",
       "2297                 -0.369564                   0.228477       0.0   \n",
       "2298                  0.156438                  -0.314350       0.0   \n",
       "2299                 -0.123395                  -0.314350       0.0   \n",
       "\n",
       "      x0_Returner  x1_b  x1_c  x1_d  ...  x2_December  x2_February  x2_July  \\\n",
       "0             1.0   0.0   0.0   0.0  ...          0.0          0.0      0.0   \n",
       "1             1.0   0.0   0.0   1.0  ...          0.0          0.0      0.0   \n",
       "2             1.0   0.0   1.0   0.0  ...          0.0          0.0      0.0   \n",
       "3             0.0   1.0   0.0   0.0  ...          0.0          0.0      0.0   \n",
       "4             1.0   0.0   0.0   0.0  ...          0.0          0.0      0.0   \n",
       "...           ...   ...   ...   ...  ...          ...          ...      ...   \n",
       "2295          1.0   0.0   0.0   0.0  ...          0.0          0.0      0.0   \n",
       "2296          1.0   0.0   1.0   0.0  ...          0.0          0.0      0.0   \n",
       "2297          1.0   0.0   0.0   0.0  ...          0.0          0.0      0.0   \n",
       "2298          1.0   0.0   1.0   0.0  ...          0.0          0.0      0.0   \n",
       "2299          1.0   0.0   0.0   0.0  ...          0.0          0.0      0.0   \n",
       "\n",
       "      x2_June  x2_March  x2_May  x2_November  x2_October  x2_September    Buy  \n",
       "0         0.0       0.0     0.0          0.0         0.0           0.0  False  \n",
       "1         0.0       0.0     1.0          0.0         0.0           0.0  False  \n",
       "2         0.0       0.0     0.0          1.0         0.0           0.0  False  \n",
       "3         0.0       0.0     1.0          0.0         0.0           0.0  False  \n",
       "4         0.0       0.0     0.0          1.0         0.0           0.0   True  \n",
       "...       ...       ...     ...          ...         ...           ...    ...  \n",
       "2295      0.0       0.0     0.0          1.0         0.0           0.0  False  \n",
       "2296      0.0       1.0     0.0          0.0         0.0           0.0  False  \n",
       "2297      0.0       0.0     0.0          1.0         0.0           0.0   True  \n",
       "2298      0.0       0.0     0.0          1.0         0.0           0.0  False  \n",
       "2299      0.0       0.0     1.0          0.0         0.0           0.0  False  \n",
       "\n",
       "[2300 rows x 31 columns]"
      ]
     },
     "execution_count": 102,
     "metadata": {},
     "output_type": "execute_result"
    }
   ],
   "source": [
    "# join the prediction in the data and get the result\n",
    "df_test=df_test.reset_index()\n",
    "df_test=df_test.join(y_pred)\n",
    "df_test"
   ]
  },
  {
   "cell_type": "code",
   "execution_count": 103,
   "metadata": {
    "scrolled": true
   },
   "outputs": [
    {
     "data": {
      "text/html": [
       "<div>\n",
       "<style scoped>\n",
       "    .dataframe tbody tr th:only-of-type {\n",
       "        vertical-align: middle;\n",
       "    }\n",
       "\n",
       "    .dataframe tbody tr th {\n",
       "        vertical-align: top;\n",
       "    }\n",
       "\n",
       "    .dataframe thead th {\n",
       "        text-align: right;\n",
       "    }\n",
       "</style>\n",
       "<table border=\"1\" class=\"dataframe\">\n",
       "  <thead>\n",
       "    <tr style=\"text-align: right;\">\n",
       "      <th></th>\n",
       "      <th>Access_ID</th>\n",
       "      <th>Buy</th>\n",
       "    </tr>\n",
       "  </thead>\n",
       "  <tbody>\n",
       "    <tr>\n",
       "      <th>0</th>\n",
       "      <td>798519314</td>\n",
       "      <td>False</td>\n",
       "    </tr>\n",
       "    <tr>\n",
       "      <th>1</th>\n",
       "      <td>798663101</td>\n",
       "      <td>False</td>\n",
       "    </tr>\n",
       "    <tr>\n",
       "      <th>2</th>\n",
       "      <td>798663221</td>\n",
       "      <td>False</td>\n",
       "    </tr>\n",
       "    <tr>\n",
       "      <th>3</th>\n",
       "      <td>798760918</td>\n",
       "      <td>False</td>\n",
       "    </tr>\n",
       "    <tr>\n",
       "      <th>4</th>\n",
       "      <td>798856982</td>\n",
       "      <td>True</td>\n",
       "    </tr>\n",
       "    <tr>\n",
       "      <th>...</th>\n",
       "      <td>...</td>\n",
       "      <td>...</td>\n",
       "    </tr>\n",
       "    <tr>\n",
       "      <th>2295</th>\n",
       "      <td>962042726</td>\n",
       "      <td>False</td>\n",
       "    </tr>\n",
       "    <tr>\n",
       "      <th>2296</th>\n",
       "      <td>962063064</td>\n",
       "      <td>False</td>\n",
       "    </tr>\n",
       "    <tr>\n",
       "      <th>2297</th>\n",
       "      <td>962147749</td>\n",
       "      <td>True</td>\n",
       "    </tr>\n",
       "    <tr>\n",
       "      <th>2298</th>\n",
       "      <td>962182167</td>\n",
       "      <td>False</td>\n",
       "    </tr>\n",
       "    <tr>\n",
       "      <th>2299</th>\n",
       "      <td>962218682</td>\n",
       "      <td>False</td>\n",
       "    </tr>\n",
       "  </tbody>\n",
       "</table>\n",
       "<p>2300 rows × 2 columns</p>\n",
       "</div>"
      ],
      "text/plain": [
       "      Access_ID    Buy\n",
       "0     798519314  False\n",
       "1     798663101  False\n",
       "2     798663221  False\n",
       "3     798760918  False\n",
       "4     798856982   True\n",
       "...         ...    ...\n",
       "2295  962042726  False\n",
       "2296  962063064  False\n",
       "2297  962147749   True\n",
       "2298  962182167  False\n",
       "2299  962218682  False\n",
       "\n",
       "[2300 rows x 2 columns]"
      ]
     },
     "execution_count": 103,
     "metadata": {},
     "output_type": "execute_result"
    }
   ],
   "source": [
    "result = df_test[['Access_ID','Buy']]\n",
    "result"
   ]
  },
  {
   "cell_type": "code",
   "execution_count": 104,
   "metadata": {},
   "outputs": [],
   "source": [
    "result.to_csv('submission.csv' , index=False)"
   ]
  },
  {
   "cell_type": "code",
   "execution_count": null,
   "metadata": {},
   "outputs": [],
   "source": []
  },
  {
   "cell_type": "code",
   "execution_count": null,
   "metadata": {},
   "outputs": [],
   "source": []
  }
 ],
 "metadata": {
  "kernelspec": {
   "display_name": "Python 3",
   "language": "python",
   "name": "python3"
  },
  "language_info": {
   "codemirror_mode": {
    "name": "ipython",
    "version": 3
   },
   "file_extension": ".py",
   "mimetype": "text/x-python",
   "name": "python",
   "nbconvert_exporter": "python",
   "pygments_lexer": "ipython3",
   "version": "3.8.8"
  }
 },
 "nbformat": 4,
 "nbformat_minor": 4
}
