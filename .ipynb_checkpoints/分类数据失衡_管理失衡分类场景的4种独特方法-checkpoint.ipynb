{
 "cells": [
  {
   "cell_type": "code",
   "execution_count": 2,
   "id": "65bafa67",
   "metadata": {},
   "outputs": [],
   "source": [
    "import pandas as pd\n",
    "from sklearn.model_selection import train_test_split\n",
    "from sklearn.datasets import make_classification\n",
    "from sklearn.ensemble import RandomForestClassifier\n",
    "from sklearn.metrics import f1_score,accuracy_score\n",
    "from sklearn.metrics import plot_confusion_matrix\n",
    "import matplotlib.pyplot as plt"
   ]
  },
  {
   "cell_type": "code",
   "execution_count": 27,
   "id": "50012b44",
   "metadata": {},
   "outputs": [
    {
     "name": "stdout",
     "output_type": "stream",
     "text": [
      "1    4871\n",
      "0     129\n",
      "Name: 0, dtype: int64\n"
     ]
    }
   ],
   "source": [
    "X, y = make_classification(n_samples=5000,weights=[0.02, 0.98],                           \n",
    "                           random_state=0,n_clusters_per_class=2)\n",
    "ycount=pd.DataFrame(y)\n",
    "print(ycount[0].value_counts())"
   ]
  },
  {
   "cell_type": "code",
   "execution_count": 28,
   "id": "fb1bdfdf",
   "metadata": {},
   "outputs": [],
   "source": [
    "X_train, X_test, y_train, y_test = train_test_split(X, y, test_size=0.2,random_state=42,stratify=y)"
   ]
  },
  {
   "cell_type": "code",
   "execution_count": 24,
   "id": "5695699c",
   "metadata": {},
   "outputs": [
    {
     "name": "stdout",
     "output_type": "stream",
     "text": [
      "F1 Score is  0.9928571428571429\n",
      "Accuracy Score is  0.986\n"
     ]
    }
   ],
   "source": [
    "clf =RandomForestClassifier(max_depth=2,random_state=0).fit(X_train, y_train)\n",
    "print(\"F1 Score is \", f1_score(y_test,clf.predict(X_test)))\n",
    "print(\"Accuracy Score is \", accuracy_score(y_test,clf.predict(X_test)))"
   ]
  },
  {
   "cell_type": "code",
   "execution_count": 9,
   "id": "e93f2c4a",
   "metadata": {},
   "outputs": [
    {
     "data": {
      "image/png": "[encoded data removed]",
      "text/plain": [
       "<Figure size 432x288 with 2 Axes>"
      ]
     },
     "metadata": {
      "needs_background": "light"
     },
     "output_type": "display_data"
    }
   ],
   "source": [
    "fig=plot_confusion_matrix(clf, X_test, y_test)\n",
    "plt.show()"
   ]
  },
  {
   "cell_type": "code",
   "execution_count": 10,
   "id": "e703c4aa",
   "metadata": {},
   "outputs": [
    {
     "name": "stdout",
     "output_type": "stream",
     "text": [
      "F1 Score for RandomForestClassifier with class_weight parameter is  0.9928057553956834\n",
      "Accuracy  Score for RandomForestClassifier with class_weight parameter is  0.986\n"
     ]
    }
   ],
   "source": [
    "weighted_clf = RandomForestClassifier(max_depth=2, random_state=0,class_weight={0:38,1:1}).fit(X_train, y_train)\n",
    "print(\"F1 Score for RandomForestClassifier with class_weight parameter is \", f1_score(y_test,weighted_clf.predict(X_test)))\n",
    "print(\"Accuracy  Score for RandomForestClassifier with class_weight parameter is \", accuracy_score(y_test,weighted_clf.predict(X_test)))"
   ]
  },
  {
   "cell_type": "code",
   "execution_count": 11,
   "id": "a8d10257",
   "metadata": {},
   "outputs": [
    {
     "name": "stdout",
     "output_type": "stream",
     "text": [
      "F1 Score for Balanced Random Forest Classifier is  0.9833852544132918\n",
      "Accuracy  Score for Balanced Random Forest Classifier is  0.968\n"
     ]
    }
   ],
   "source": [
    "from imblearn.ensemble import BalancedRandomForestClassifier\n",
    "brfc = BalancedRandomForestClassifier(n_estimators=500,random_state=0).fit(X_train,y_train)\n",
    "print(\"F1 Score for Balanced Random Forest Classifier is \", f1_score(y_test,brfc.predict(X_test)))\n",
    "print(\"Accuracy  Score for Balanced Random Forest Classifier is \", accuracy_score(y_test,brfc.predict(X_test)))"
   ]
  },
  {
   "cell_type": "code",
   "execution_count": 16,
   "id": "682fba70",
   "metadata": {},
   "outputs": [
    {
     "name": "stdout",
     "output_type": "stream",
     "text": [
      "Number of records for X_train is  (4000, 20)\n",
      "Number of records for X_resampled oversampling is  (7794, 20)\n"
     ]
    }
   ],
   "source": [
    "from imblearn.over_sampling import RandomOverSampler\n",
    "ros = RandomOverSampler(random_state=0)\n",
    "X_resampled, y_resampled = ros.fit_resample(X_train, y_train)\n",
    "print(\"Number of records for X_train is \", X_train.shape)\n",
    "print(\"Number of records for X_resampled oversampling is \",X_resampled.shape)"
   ]
  },
  {
   "cell_type": "code",
   "execution_count": 17,
   "id": "997ae1a9",
   "metadata": {},
   "outputs": [],
   "source": [
    "oclf = RandomForestClassifier(max_depth=2, random_state=0).fit(X_resampled, y_resampled)"
   ]
  },
  {
   "cell_type": "code",
   "execution_count": 19,
   "id": "aba688fe",
   "metadata": {},
   "outputs": [
    {
     "data": {
      "text/plain": [
       "array([[-0.16922908, -0.36389553, -2.31151557, ...,  1.94100214,\n",
       "        -2.18438313,  0.89070011],\n",
       "       [ 0.96858372, -0.13059267, -0.21263407, ..., -1.67506951,\n",
       "         0.02567231,  0.19348551],\n",
       "       [-0.36617026, -0.02854322, -0.29428924, ...,  1.82292313,\n",
       "        -2.00965266, -0.41224196],\n",
       "       ...,\n",
       "       [ 0.27317097,  0.84538901, -1.5346718 , ...,  0.57845716,\n",
       "        -0.13979761,  1.14918372],\n",
       "       [-0.57114681,  0.2257384 , -1.15138424, ...,  0.96888983,\n",
       "        -1.09501436,  0.13000828],\n",
       "       [ 0.07068337, -0.23801758, -1.45206224, ...,  0.96713362,\n",
       "        -0.78816873, -0.70812843]])"
      ]
     },
     "execution_count": 19,
     "metadata": {},
     "output_type": "execute_result"
    }
   ],
   "source": []
  },
  {
   "cell_type": "code",
   "execution_count": null,
   "id": "a769f828",
   "metadata": {},
   "outputs": [],
   "source": []
  }
 ],
 "metadata": {
  "kernelspec": {
   "display_name": "Python 3",
   "language": "python",
   "name": "python3"
  },
  "language_info": {
   "codemirror_mode": {
    "name": "ipython",
    "version": 3
   },
   "file_extension": ".py",
   "mimetype": "text/x-python",
   "name": "python",
   "nbconvert_exporter": "python",
   "pygments_lexer": "ipython3",
   "version": "3.8.8"
  }
 },
 "nbformat": 4,
 "nbformat_minor": 5
}
